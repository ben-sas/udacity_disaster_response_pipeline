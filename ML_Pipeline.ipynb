{
 "cells": [
  {
   "cell_type": "markdown",
   "metadata": {},
   "source": [
    "# ML Pipeline Preparation\n",
    "Follow the instructions below to help you create your ML pipeline.\n",
    "### 1. Import libraries and load data from database.\n",
    "- Import Python libraries\n",
    "- Load dataset from database with [`read_sql_table`](https://pandas.pydata.org/pandas-docs/stable/generated/pandas.read_sql_table.html)\n",
    "- Define feature and target variables X and Y"
   ]
  },
  {
   "cell_type": "code",
   "execution_count": 82,
   "metadata": {},
   "outputs": [
    {
     "name": "stderr",
     "output_type": "stream",
     "text": [
      "[nltk_data] Downloading package punkt to\n",
      "[nltk_data]     C:\\Users\\q514907\\AppData\\Roaming\\nltk_data...\n",
      "[nltk_data]   Package punkt is already up-to-date!\n",
      "[nltk_data] Downloading package stopwords to\n",
      "[nltk_data]     C:\\Users\\q514907\\AppData\\Roaming\\nltk_data...\n",
      "[nltk_data]   Package stopwords is already up-to-date!\n",
      "[nltk_data] Downloading package wordnet to\n",
      "[nltk_data]     C:\\Users\\q514907\\AppData\\Roaming\\nltk_data...\n",
      "[nltk_data]   Package wordnet is already up-to-date!\n"
     ]
    }
   ],
   "source": [
    "# import libraries\n",
    "import pandas as pd\n",
    "import numpy as np\n",
    "from sqlalchemy import create_engine\n",
    "import pickle\n",
    "\n",
    "from nltk import word_tokenize, sent_tokenize\n",
    "from nltk.corpus import stopwords\n",
    "from nltk.corpus import wordnet as wn\n",
    "from nltk.stem import WordNetLemmatizer\n",
    "from nltk.stem import PorterStemmer\n",
    "\n",
    "import nltk\n",
    "nltk.download('punkt')\n",
    "nltk.download('stopwords')\n",
    "nltk.download('wordnet')\n",
    "\n",
    "import string\n",
    "string.punctuation\n",
    "\n",
    "from sklearn.metrics import classification_report\n",
    "from sklearn.multioutput import MultiOutputClassifier, MultiOutputRegressor\n",
    "\n"
   ]
  },
  {
   "cell_type": "code",
   "execution_count": 84,
   "metadata": {},
   "outputs": [
    {
     "data": {
      "text/html": [
       "<div>\n",
       "<style scoped>\n",
       "    .dataframe tbody tr th:only-of-type {\n",
       "        vertical-align: middle;\n",
       "    }\n",
       "\n",
       "    .dataframe tbody tr th {\n",
       "        vertical-align: top;\n",
       "    }\n",
       "\n",
       "    .dataframe thead th {\n",
       "        text-align: right;\n",
       "    }\n",
       "</style>\n",
       "<table border=\"1\" class=\"dataframe\">\n",
       "  <thead>\n",
       "    <tr style=\"text-align: right;\">\n",
       "      <th></th>\n",
       "      <th>id</th>\n",
       "      <th>message</th>\n",
       "      <th>original</th>\n",
       "      <th>genre</th>\n",
       "      <th>related</th>\n",
       "      <th>request</th>\n",
       "      <th>offer</th>\n",
       "      <th>aid_related</th>\n",
       "      <th>medical_help</th>\n",
       "      <th>medical_products</th>\n",
       "      <th>...</th>\n",
       "      <th>aid_centers</th>\n",
       "      <th>other_infrastructure</th>\n",
       "      <th>weather_related</th>\n",
       "      <th>floods</th>\n",
       "      <th>storm</th>\n",
       "      <th>fire</th>\n",
       "      <th>earthquake</th>\n",
       "      <th>cold</th>\n",
       "      <th>other_weather</th>\n",
       "      <th>direct_report</th>\n",
       "    </tr>\n",
       "  </thead>\n",
       "  <tbody>\n",
       "    <tr>\n",
       "      <th>0</th>\n",
       "      <td>2</td>\n",
       "      <td>Weather update - a cold front from Cuba that c...</td>\n",
       "      <td>Un front froid se retrouve sur Cuba ce matin. ...</td>\n",
       "      <td>direct</td>\n",
       "      <td>1</td>\n",
       "      <td>0</td>\n",
       "      <td>0</td>\n",
       "      <td>0</td>\n",
       "      <td>0</td>\n",
       "      <td>0</td>\n",
       "      <td>...</td>\n",
       "      <td>0</td>\n",
       "      <td>0</td>\n",
       "      <td>0</td>\n",
       "      <td>0</td>\n",
       "      <td>0</td>\n",
       "      <td>0</td>\n",
       "      <td>0</td>\n",
       "      <td>0</td>\n",
       "      <td>0</td>\n",
       "      <td>0</td>\n",
       "    </tr>\n",
       "    <tr>\n",
       "      <th>1</th>\n",
       "      <td>7</td>\n",
       "      <td>Is the Hurricane over or is it not over</td>\n",
       "      <td>Cyclone nan fini osinon li pa fini</td>\n",
       "      <td>direct</td>\n",
       "      <td>1</td>\n",
       "      <td>0</td>\n",
       "      <td>0</td>\n",
       "      <td>1</td>\n",
       "      <td>0</td>\n",
       "      <td>0</td>\n",
       "      <td>...</td>\n",
       "      <td>0</td>\n",
       "      <td>0</td>\n",
       "      <td>1</td>\n",
       "      <td>0</td>\n",
       "      <td>1</td>\n",
       "      <td>0</td>\n",
       "      <td>0</td>\n",
       "      <td>0</td>\n",
       "      <td>0</td>\n",
       "      <td>0</td>\n",
       "    </tr>\n",
       "    <tr>\n",
       "      <th>2</th>\n",
       "      <td>8</td>\n",
       "      <td>Looking for someone but no name</td>\n",
       "      <td>Patnm, di Maryani relem pou li banm nouvel li ...</td>\n",
       "      <td>direct</td>\n",
       "      <td>1</td>\n",
       "      <td>0</td>\n",
       "      <td>0</td>\n",
       "      <td>0</td>\n",
       "      <td>0</td>\n",
       "      <td>0</td>\n",
       "      <td>...</td>\n",
       "      <td>0</td>\n",
       "      <td>0</td>\n",
       "      <td>0</td>\n",
       "      <td>0</td>\n",
       "      <td>0</td>\n",
       "      <td>0</td>\n",
       "      <td>0</td>\n",
       "      <td>0</td>\n",
       "      <td>0</td>\n",
       "      <td>0</td>\n",
       "    </tr>\n",
       "    <tr>\n",
       "      <th>3</th>\n",
       "      <td>9</td>\n",
       "      <td>UN reports Leogane 80-90 destroyed. Only Hospi...</td>\n",
       "      <td>UN reports Leogane 80-90 destroyed. Only Hospi...</td>\n",
       "      <td>direct</td>\n",
       "      <td>1</td>\n",
       "      <td>1</td>\n",
       "      <td>0</td>\n",
       "      <td>1</td>\n",
       "      <td>0</td>\n",
       "      <td>1</td>\n",
       "      <td>...</td>\n",
       "      <td>0</td>\n",
       "      <td>0</td>\n",
       "      <td>0</td>\n",
       "      <td>0</td>\n",
       "      <td>0</td>\n",
       "      <td>0</td>\n",
       "      <td>0</td>\n",
       "      <td>0</td>\n",
       "      <td>0</td>\n",
       "      <td>0</td>\n",
       "    </tr>\n",
       "    <tr>\n",
       "      <th>4</th>\n",
       "      <td>12</td>\n",
       "      <td>says: west side of Haiti, rest of the country ...</td>\n",
       "      <td>facade ouest d Haiti et le reste du pays aujou...</td>\n",
       "      <td>direct</td>\n",
       "      <td>1</td>\n",
       "      <td>0</td>\n",
       "      <td>0</td>\n",
       "      <td>0</td>\n",
       "      <td>0</td>\n",
       "      <td>0</td>\n",
       "      <td>...</td>\n",
       "      <td>0</td>\n",
       "      <td>0</td>\n",
       "      <td>0</td>\n",
       "      <td>0</td>\n",
       "      <td>0</td>\n",
       "      <td>0</td>\n",
       "      <td>0</td>\n",
       "      <td>0</td>\n",
       "      <td>0</td>\n",
       "      <td>0</td>\n",
       "    </tr>\n",
       "  </tbody>\n",
       "</table>\n",
       "<p>5 rows × 39 columns</p>\n",
       "</div>"
      ],
      "text/plain": [
       "   id                                            message  \\\n",
       "0   2  Weather update - a cold front from Cuba that c...   \n",
       "1   7            Is the Hurricane over or is it not over   \n",
       "2   8                    Looking for someone but no name   \n",
       "3   9  UN reports Leogane 80-90 destroyed. Only Hospi...   \n",
       "4  12  says: west side of Haiti, rest of the country ...   \n",
       "\n",
       "                                            original   genre  related  \\\n",
       "0  Un front froid se retrouve sur Cuba ce matin. ...  direct        1   \n",
       "1                 Cyclone nan fini osinon li pa fini  direct        1   \n",
       "2  Patnm, di Maryani relem pou li banm nouvel li ...  direct        1   \n",
       "3  UN reports Leogane 80-90 destroyed. Only Hospi...  direct        1   \n",
       "4  facade ouest d Haiti et le reste du pays aujou...  direct        1   \n",
       "\n",
       "   request  offer  aid_related  medical_help  medical_products  ...  \\\n",
       "0        0      0            0             0                 0  ...   \n",
       "1        0      0            1             0                 0  ...   \n",
       "2        0      0            0             0                 0  ...   \n",
       "3        1      0            1             0                 1  ...   \n",
       "4        0      0            0             0                 0  ...   \n",
       "\n",
       "   aid_centers  other_infrastructure  weather_related  floods  storm  fire  \\\n",
       "0            0                     0                0       0      0     0   \n",
       "1            0                     0                1       0      1     0   \n",
       "2            0                     0                0       0      0     0   \n",
       "3            0                     0                0       0      0     0   \n",
       "4            0                     0                0       0      0     0   \n",
       "\n",
       "   earthquake  cold  other_weather  direct_report  \n",
       "0           0     0              0              0  \n",
       "1           0     0              0              0  \n",
       "2           0     0              0              0  \n",
       "3           0     0              0              0  \n",
       "4           0     0              0              0  \n",
       "\n",
       "[5 rows x 39 columns]"
      ]
     },
     "execution_count": 84,
     "metadata": {},
     "output_type": "execute_result"
    }
   ],
   "source": [
    "# load data from database\n",
    "engine = create_engine('sqlite:///UdacityDisasterResponse.db')\n",
    "df = pd.read_sql_table(\"Messages_Categories\", con=engine)\n",
    "\n",
    "df = df[:1000]\n",
    "\n",
    "# df = pd.read_sql_table(\"Messages_Categories\", con=\"sqlite:///DisasterResponse.db\")\n",
    "X = df[\"message\"]\n",
    "Y = df.iloc[:,4:].astype(\"int\")\n",
    "\n",
    "df.head(5)"
   ]
  },
  {
   "cell_type": "markdown",
   "metadata": {},
   "source": [
    "### 2. Write a tokenization function to process your text data"
   ]
  },
  {
   "cell_type": "code",
   "execution_count": 51,
   "metadata": {},
   "outputs": [],
   "source": [
    "def tokenize(text):\n",
    "    messages_tokenized = []\n",
    "    \n",
    "    for index, message in enumerate(text):\n",
    "        message = message.lower()\n",
    "        \n",
    "        # Remove punctuation\n",
    "        # https://stackoverflow.com/questions/265960/best-way-to-strip-punctuation-from-a-string\n",
    "        message = message.translate(str.maketrans('', '', string.punctuation))\n",
    "        \n",
    "        # Tokenize into sentences and then words\n",
    "        sentence_list = sent_tokenize(message)\n",
    "        \n",
    "        try:\n",
    "            words_tokenized = [word_tokenize(sentence) for sentence in sentence_list][0]\n",
    "        except:\n",
    "            words_tokenized = message\n",
    "#             print(Exception)\n",
    "            print(f\"Message {message} at index {index} caused an error. Message not tokenzied.\")\n",
    "            \n",
    "\n",
    "        # Remove stopwords\n",
    "        words_tokenized = [w for w in words_tokenized if w not in stopwords.words(\"english\")]\n",
    "        \n",
    "        messages_tokenized.append(words_tokenized)\n",
    "        \n",
    "    return messages_tokenized\n"
   ]
  },
  {
   "cell_type": "code",
   "execution_count": 52,
   "metadata": {},
   "outputs": [],
   "source": [
    "def tokenize_single(text):\n",
    "    \n",
    "    message = text.lower()\n",
    "    \n",
    "    # Remove punctuation\n",
    "    # https://stackoverflow.com/questions/265960/best-way-to-strip-punctuation-from-a-string\n",
    "    message = message.translate(str.maketrans('', '', string.punctuation))\n",
    "        \n",
    "    # Tokenize into sentences and then words\n",
    "    sentence_list = sent_tokenize(message)\n",
    "        \n",
    "    try:\n",
    "        words_tokenized = [word_tokenize(sentence) for sentence in sentence_list][0]\n",
    "    except:\n",
    "        words_tokenized = [\"\"]\n",
    "        print(Exception)\n",
    "        print(f\"Text '{text}' replaced with empty string.\")\n",
    "\n",
    "    # Remove stopwords\n",
    "    words_tokenized = [w for w in words_tokenized if w not in stopwords.words(\"english\")]\n",
    "    \n",
    "    \n",
    "    return words_tokenized\n"
   ]
  },
  {
   "cell_type": "code",
   "execution_count": 53,
   "metadata": {},
   "outputs": [
    {
     "data": {
      "text/plain": [
       "'upper'"
      ]
     },
     "execution_count": 53,
     "metadata": {},
     "output_type": "execute_result"
    }
   ],
   "source": [
    "test_text = [\"Upper\", \"Upper2\"][0]\n",
    "# test_text = [][0]\n",
    "\n",
    "test_text.lower()\n",
    "\n"
   ]
  },
  {
   "cell_type": "code",
   "execution_count": 54,
   "metadata": {},
   "outputs": [
    {
     "data": {
      "text/plain": [
       "'weather update - a cold front from cuba that could pass over haiti'"
      ]
     },
     "execution_count": 54,
     "metadata": {},
     "output_type": "execute_result"
    }
   ],
   "source": [
    "df[\"message\"][0].translate(str.maketrans('', '', string.punctuation))\n",
    "\n",
    "df[\"message\"][0].lower()"
   ]
  },
  {
   "cell_type": "code",
   "execution_count": 55,
   "metadata": {},
   "outputs": [
    {
     "data": {
      "text/plain": [
       "['weather', 'update', 'cold', 'front', 'cuba', 'could', 'pass', 'haiti']"
      ]
     },
     "execution_count": 55,
     "metadata": {},
     "output_type": "execute_result"
    }
   ],
   "source": [
    "df[\"message\"][:10]\n",
    "df[\"message\"][0]\n",
    "\n",
    "tokenize_single(df[\"message\"][0])"
   ]
  },
  {
   "cell_type": "code",
   "execution_count": 56,
   "metadata": {},
   "outputs": [],
   "source": [
    "# tokenized_list = tokenize(df[\"message\"][:10])\n",
    "# tokenized_list = tokenize(df[\"message\"])\n",
    "\n",
    "\n",
    "# tokenized_list\n",
    "# print(\"Done.\")"
   ]
  },
  {
   "cell_type": "code",
   "execution_count": 57,
   "metadata": {},
   "outputs": [],
   "source": [
    "# tokenized_list[7591]\n",
    "# df[\"message\"][7590:7592]\n",
    "\n",
    "# df.iloc[7591]"
   ]
  },
  {
   "cell_type": "code",
   "execution_count": 58,
   "metadata": {},
   "outputs": [],
   "source": [
    "def lemmatize(text):\n",
    "    \"\"\"\n",
    "    This function takes a series of text pieces, tokenizes by words via the tokenize() function and then lemmatizes each token.\n",
    "    The output is a list of lemmatized tokens per message.\n",
    "    \"\"\"\n",
    "    # tokenize text\n",
    "    messages_tokenized = tokenize(text)\n",
    "    \n",
    "    # initiate lemmatizer\n",
    "    lemmatizer = WordNetLemmatizer()\n",
    "    \n",
    "    messages_lemmatized = []\n",
    "    \n",
    "    for message in messages_tokenized:\n",
    "        try:\n",
    "            words_lemmatized = [lemmatizer.lemmatize(token) for token in message]\n",
    "            messages_lemmatized.append(words_lemmatized)\n",
    "            max_index = messages_tokenized.index(message)\n",
    "        except:\n",
    "            print(f\"Message at index {max_index + 1} caused an error. Message not lemmatized.\")\n",
    "            \n",
    "\n",
    "    return messages_lemmatized"
   ]
  },
  {
   "cell_type": "code",
   "execution_count": 59,
   "metadata": {},
   "outputs": [],
   "source": [
    "def lemmatize_single(text):\n",
    "    \"\"\"\n",
    "    This function takes a series of text pieces, tokenizes by words via the tokenize() function and then lemmatizes each token.\n",
    "    The output is a list of lemmatized tokens per message.\n",
    "    \"\"\"\n",
    "    # tokenize text\n",
    "    message_tokenized = tokenize_single(text)\n",
    "    \n",
    "    # initiate lemmatizer\n",
    "    lemmatizer = WordNetLemmatizer()\n",
    "    words_lemmatized = [lemmatizer.lemmatize(token) for token in message_tokenized]\n",
    "    \n",
    "    # Apply porter stemmer\n",
    "    ps = PorterStemmer()\n",
    "    words_stemmed = [ps.stem(word) for word in words_lemmatized]\n",
    "    \n",
    "    return words_stemmed"
   ]
  },
  {
   "cell_type": "code",
   "execution_count": 60,
   "metadata": {},
   "outputs": [
    {
     "data": {
      "text/plain": [
       "['there', 'noth', 'eat', 'water', 'starv', 'thirsti']"
      ]
     },
     "execution_count": 60,
     "metadata": {},
     "output_type": "execute_result"
    }
   ],
   "source": [
    "tokenize_single(df[\"message\"][10])\n",
    "\n",
    "lemmatize_single(df[\"message\"][10])"
   ]
  },
  {
   "cell_type": "code",
   "execution_count": 61,
   "metadata": {},
   "outputs": [
    {
     "data": {
      "text/plain": [
       "['there', 'noth', 'eat', 'water', 'starv', 'thirsti']"
      ]
     },
     "execution_count": 61,
     "metadata": {},
     "output_type": "execute_result"
    }
   ],
   "source": [
    "testing = lemmatize_single(df[\"message\"][10])\n",
    "\n",
    "ps = PorterStemmer()\n",
    "\n",
    "[ps.stem(word) for word in testing]"
   ]
  },
  {
   "cell_type": "code",
   "execution_count": 62,
   "metadata": {},
   "outputs": [
    {
     "data": {
      "text/plain": [
       "['there', 'noth', 'eat', 'water', 'starv', 'thirsti']"
      ]
     },
     "execution_count": 62,
     "metadata": {},
     "output_type": "execute_result"
    }
   ],
   "source": [
    "lemmatize_single(df[\"message\"][10])"
   ]
  },
  {
   "cell_type": "code",
   "execution_count": 63,
   "metadata": {},
   "outputs": [
    {
     "name": "stdout",
     "output_type": "stream",
     "text": [
      "Done.\n"
     ]
    },
    {
     "data": {
      "text/plain": [
       "[['weather', 'update', 'cold', 'front', 'cuba', 'could', 'pas', 'haiti'],\n",
       " ['hurricane'],\n",
       " ['looking', 'someone', 'name'],\n",
       " ['un',\n",
       "  'report',\n",
       "  'leogane',\n",
       "  '8090',\n",
       "  'destroyed',\n",
       "  'hospital',\n",
       "  'st',\n",
       "  'croix',\n",
       "  'functioning',\n",
       "  'need',\n",
       "  'supply',\n",
       "  'desperately'],\n",
       " ['say', 'west', 'side', 'haiti', 'rest', 'country', 'today', 'tonight'],\n",
       " ['information', 'national', 'palace'],\n",
       " ['storm', 'sacred', 'heart', 'jesus'],\n",
       " ['please', 'need', 'tent', 'water', 'silo', 'thank'],\n",
       " ['would', 'like', 'receive', 'message', 'thank'],\n",
       " ['croixdesbouquets',\n",
       "  'health',\n",
       "  'issue',\n",
       "  'worker',\n",
       "  'santo',\n",
       "  '15',\n",
       "  'area',\n",
       "  'croixdesbouquets']]"
      ]
     },
     "execution_count": 63,
     "metadata": {},
     "output_type": "execute_result"
    }
   ],
   "source": [
    "test_lem = lemmatize(df[\"message\"][:10])\n",
    "\n",
    "print(\"Done.\")\n",
    "test_lem"
   ]
  },
  {
   "cell_type": "code",
   "execution_count": 64,
   "metadata": {},
   "outputs": [
    {
     "name": "stdout",
     "output_type": "stream",
     "text": [
      "Done.\n"
     ]
    },
    {
     "data": {
      "text/plain": [
       "[['weather', 'update', 'cold', 'front', 'cuba', 'could', 'pas', 'haiti'],\n",
       " ['hurricane'],\n",
       " ['looking', 'someone', 'name'],\n",
       " ['un',\n",
       "  'report',\n",
       "  'leogane',\n",
       "  '8090',\n",
       "  'destroyed',\n",
       "  'hospital',\n",
       "  'st',\n",
       "  'croix',\n",
       "  'functioning',\n",
       "  'need',\n",
       "  'supply',\n",
       "  'desperately'],\n",
       " ['say', 'west', 'side', 'haiti', 'rest', 'country', 'today', 'tonight'],\n",
       " ['information', 'national', 'palace'],\n",
       " ['storm', 'sacred', 'heart', 'jesus'],\n",
       " ['please', 'need', 'tent', 'water', 'silo', 'thank'],\n",
       " ['would', 'like', 'receive', 'message', 'thank'],\n",
       " ['croixdesbouquets',\n",
       "  'health',\n",
       "  'issue',\n",
       "  'worker',\n",
       "  'santo',\n",
       "  '15',\n",
       "  'area',\n",
       "  'croixdesbouquets']]"
      ]
     },
     "execution_count": 64,
     "metadata": {},
     "output_type": "execute_result"
    }
   ],
   "source": [
    "# all_messages_lemmatized = lemmatize(df[\"message\"])\n",
    "all_messages_lemmatized = lemmatize(X[:10])\n",
    "\n",
    "print(\"Done.\")\n",
    "all_messages_lemmatized"
   ]
  },
  {
   "cell_type": "markdown",
   "metadata": {},
   "source": [
    "### 3. Build a machine learning pipeline\n",
    "This machine pipeline should take in the `message` column as input and output classification results on the other 36 categories in the dataset. You may find the [MultiOutputClassifier](http://scikit-learn.org/stable/modules/generated/sklearn.multioutput.MultiOutputClassifier.html) helpful for predicting multiple target variables."
   ]
  },
  {
   "cell_type": "code",
   "execution_count": 74,
   "metadata": {},
   "outputs": [],
   "source": [
    "from sklearn.pipeline import Pipeline\n",
    "# from sklearn.metrics import confusion_matrix\n",
    "from sklearn.model_selection import train_test_split\n",
    "from sklearn.ensemble import RandomForestClassifier\n",
    "from sklearn.feature_extraction.text import CountVectorizer, TfidfTransformer\n",
    "from sklearn.metrics import hamming_loss\n"
   ]
  },
  {
   "cell_type": "code",
   "execution_count": 66,
   "metadata": {},
   "outputs": [],
   "source": [
    "# print(len(all_messages_lemmatized))\n",
    "# print(X.shape[0])"
   ]
  },
  {
   "cell_type": "code",
   "execution_count": 67,
   "metadata": {},
   "outputs": [
    {
     "name": "stdout",
     "output_type": "stream",
     "text": [
      "Done.\n"
     ]
    }
   ],
   "source": [
    "Y.sum(axis=1)\n",
    "categories_colnames = list(Y.columns)\n",
    "categories_colnames\n",
    "\n",
    "X_subset = X[:2]\n",
    "Y_subset = Y.head(2)\n",
    "\n",
    "X_train, X_test, Y_train, Y_test = train_test_split(X, Y)\n",
    "# X_train, X_test, Y_train, Y_test = train_test_split(X_subset, Y_subset)\n",
    "\n",
    "# Y_train[\"request\"]\n",
    "\n",
    "print(\"Done.\")"
   ]
  },
  {
   "cell_type": "code",
   "execution_count": 68,
   "metadata": {
    "scrolled": true
   },
   "outputs": [],
   "source": [
    "from sklearn.feature_extraction.text import TfidfVectorizer\n",
    "from sklearn.multiclass import OneVsRestClassifier\n",
    "from sklearn.naive_bayes import MultinomialNB\n",
    "from sklearn.metrics import accuracy_score\n",
    "from sklearn.multioutput import MultiOutputClassifier, MultiOutputRegressor\n",
    "\n",
    "\n",
    "# # categories_colnames = [\"related\"] #, \"request\"]\n",
    "\n",
    "# # https://towardsdatascience.com/multi-label-text-classification-with-scikit-learn-30714b7819c5\n",
    "\n",
    "# pipeline = Pipeline([\n",
    "#         ('vect', CountVectorizer(tokenizer=tokenize_single)),\n",
    "# #         ('tfidf', TfidfVectorizer(lowercase=False)),\n",
    "#         ('tfidf', TfidfTransformer()),\n",
    "\n",
    "#         ('clf', OneVsRestClassifier(MultinomialNB(\n",
    "#             fit_prior=True, class_prior=None))),\n",
    "#     ])\n",
    "\n",
    "# model_dict = {}\n",
    "\n",
    "# for category in categories_colnames:\n",
    "#     print(f'... Processing {category}')\n",
    "#     # train the model using X_dtm & y\n",
    "#     pipeline.fit(X_train, Y_train[category])\n",
    "#     # compute the testing accuracy\n",
    "#     prediction = pipeline.predict(X_test)\n",
    "#     print(f'Test accuracy is {accuracy_score(Y_test[category], prediction)}')\n",
    "#     model_dict[category] = pipeline"
   ]
  },
  {
   "cell_type": "code",
   "execution_count": 69,
   "metadata": {},
   "outputs": [],
   "source": [
    "# print(classification_report(Y_test[\"related\"], prediction))\n",
    "# print(classification_report(Y_test[\"related\"], model_dict[\"related\"].predict(X_test)))\n",
    "\n"
   ]
  },
  {
   "cell_type": "code",
   "execution_count": 70,
   "metadata": {},
   "outputs": [
    {
     "ename": "NameError",
     "evalue": "name 'stop_code' is not defined",
     "output_type": "error",
     "traceback": [
      "\u001b[1;31m---------------------------------------------------------------------------\u001b[0m",
      "\u001b[1;31mNameError\u001b[0m                                 Traceback (most recent call last)",
      "Cell \u001b[1;32mIn[70], line 1\u001b[0m\n\u001b[1;32m----> 1\u001b[0m stop_code\n",
      "\u001b[1;31mNameError\u001b[0m: name 'stop_code' is not defined"
     ]
    }
   ],
   "source": [
    "stop_code"
   ]
  },
  {
   "cell_type": "markdown",
   "metadata": {},
   "source": [
    "# Test with MultiOutputClassifier()"
   ]
  },
  {
   "cell_type": "code",
   "execution_count": null,
   "metadata": {},
   "outputs": [],
   "source": [
    "Y[\"related\"].unique()\n",
    "Y.loc[Y[\"related\"]==2]"
   ]
  },
  {
   "cell_type": "code",
   "execution_count": null,
   "metadata": {},
   "outputs": [],
   "source": [
    "for col in Y:\n",
    "    print(Y[col].unique())"
   ]
  },
  {
   "cell_type": "code",
   "execution_count": null,
   "metadata": {},
   "outputs": [],
   "source": [
    "\n",
    "pipeline_OvR = Pipeline([\n",
    "        ('vect', CountVectorizer(tokenizer=lemmatize_single)),\n",
    "#         ('tfidf', TfidfVectorizer(lowercase=False)),\n",
    "        ('tfidf', TfidfTransformer()),\n",
    "\n",
    "        ('clf', OneVsRestClassifier(RandomForestClassifier()\n",
    "            )),\n",
    "    ])\n",
    "\n",
    "# train the model using X_dtm & y\n",
    "pipeline_OvR.fit(X_train, Y_train)\n",
    "# compute the testing accuracy\n",
    "prediction_OvR = pipeline_OvR.predict(X_test)"
   ]
  },
  {
   "cell_type": "code",
   "execution_count": null,
   "metadata": {},
   "outputs": [],
   "source": [
    "# pipeline.score(X_test, Y_test)\n",
    "\n",
    "print(classification_report(Y_test, prediction_OvR))"
   ]
  },
  {
   "cell_type": "markdown",
   "metadata": {},
   "source": [
    "# Random Forest"
   ]
  },
  {
   "cell_type": "code",
   "execution_count": null,
   "metadata": {},
   "outputs": [
    {
     "name": "stderr",
     "output_type": "stream",
     "text": [
      "c:\\Users\\q514907\\Anaconda3\\envs\\UdacityProject_2\\lib\\site-packages\\sklearn\\feature_extraction\\text.py:528: UserWarning: The parameter 'token_pattern' will not be used since 'tokenizer' is not None'\n",
      "  warnings.warn(\n"
     ]
    },
    {
     "name": "stdout",
     "output_type": "stream",
     "text": [
      "<class 'Exception'>\n",
      "Text '    ' replaced with empty string.\n"
     ]
    }
   ],
   "source": [
    "from sklearn.multioutput import MultiOutputClassifier, MultiOutputRegressor\n",
    "\n",
    "pipeline_RF = Pipeline([\n",
    "        ('vect', CountVectorizer(tokenizer=lemmatize_single)),\n",
    "#         ('tfidf', TfidfVectorizer(lowercase=False)),\n",
    "        ('tfidf', TfidfTransformer()),\n",
    "\n",
    "        ('clf', MultiOutputClassifier(RandomForestClassifier(\n",
    "            ))),\n",
    "    ])\n",
    "\n",
    "# train the model using X_dtm & y\n",
    "pipeline_RF.fit(X_train, Y_train)\n",
    "# compute the testing accuracy\n",
    "prediction_RF = pipeline_RF.predict(X_test)"
   ]
  },
  {
   "cell_type": "code",
   "execution_count": null,
   "metadata": {
    "scrolled": true
   },
   "outputs": [
    {
     "name": "stdout",
     "output_type": "stream",
     "text": [
      "                        precision    recall  f1-score   support\n",
      "\n",
      "               related       0.85      0.98      0.91       206\n",
      "               request       0.86      0.86      0.86       147\n",
      "                 offer       0.00      0.00      0.00         1\n",
      "           aid_related       0.80      0.82      0.81       154\n",
      "          medical_help       1.00      0.06      0.12        31\n",
      "      medical_products       1.00      0.06      0.11        18\n",
      "     search_and_rescue       0.00      0.00      0.00        10\n",
      "              security       0.00      0.00      0.00         5\n",
      "              military       0.00      0.00      0.00         3\n",
      "                 water       0.90      0.86      0.88        44\n",
      "                  food       0.89      0.86      0.88        65\n",
      "               shelter       0.92      0.29      0.44        41\n",
      "              clothing       0.00      0.00      0.00         7\n",
      "                 money       0.00      0.00      0.00         9\n",
      "        missing_people       0.00      0.00      0.00         3\n",
      "              refugees       0.00      0.00      0.00         9\n",
      "                 death       0.00      0.00      0.00        11\n",
      "             other_aid       0.75      0.05      0.10        56\n",
      "infrastructure_related       0.00      0.00      0.00        10\n",
      "             transport       0.00      0.00      0.00         9\n",
      "             buildings       0.50      0.05      0.10        19\n",
      "           electricity       0.00      0.00      0.00         2\n",
      "                 tools       0.00      0.00      0.00         1\n",
      "             hospitals       0.00      0.00      0.00         2\n",
      "                 shops       0.00      0.00      0.00         1\n",
      "           aid_centers       0.00      0.00      0.00         0\n",
      "  other_infrastructure       0.00      0.00      0.00         7\n",
      "       weather_related       1.00      0.18      0.30        28\n",
      "                floods       0.00      0.00      0.00         8\n",
      "                 storm       0.00      0.00      0.00         4\n",
      "                  fire       0.00      0.00      0.00         2\n",
      "            earthquake       0.00      0.00      0.00         9\n",
      "                  cold       1.00      0.50      0.67         2\n",
      "         other_weather       0.00      0.00      0.00         7\n",
      "         direct_report       0.82      0.85      0.84       140\n",
      "\n",
      "             micro avg       0.84      0.65      0.73      1071\n",
      "             macro avg       0.32      0.18      0.20      1071\n",
      "          weighted avg       0.75      0.65      0.65      1071\n",
      "           samples avg       0.73      0.59      0.60      1071\n",
      "\n"
     ]
    },
    {
     "name": "stderr",
     "output_type": "stream",
     "text": [
      "c:\\Users\\q514907\\Anaconda3\\envs\\UdacityProject_2\\lib\\site-packages\\sklearn\\metrics\\_classification.py:1344: UndefinedMetricWarning: Precision and F-score are ill-defined and being set to 0.0 in labels with no predicted samples. Use `zero_division` parameter to control this behavior.\n",
      "  _warn_prf(average, modifier, msg_start, len(result))\n",
      "c:\\Users\\q514907\\Anaconda3\\envs\\UdacityProject_2\\lib\\site-packages\\sklearn\\metrics\\_classification.py:1344: UndefinedMetricWarning: Recall and F-score are ill-defined and being set to 0.0 in labels with no true samples. Use `zero_division` parameter to control this behavior.\n",
      "  _warn_prf(average, modifier, msg_start, len(result))\n",
      "c:\\Users\\q514907\\Anaconda3\\envs\\UdacityProject_2\\lib\\site-packages\\sklearn\\metrics\\_classification.py:1344: UndefinedMetricWarning: Precision and F-score are ill-defined and being set to 0.0 in samples with no predicted labels. Use `zero_division` parameter to control this behavior.\n",
      "  _warn_prf(average, modifier, msg_start, len(result))\n",
      "c:\\Users\\q514907\\Anaconda3\\envs\\UdacityProject_2\\lib\\site-packages\\sklearn\\metrics\\_classification.py:1344: UndefinedMetricWarning: Recall and F-score are ill-defined and being set to 0.0 in samples with no true labels. Use `zero_division` parameter to control this behavior.\n",
      "  _warn_prf(average, modifier, msg_start, len(result))\n"
     ]
    }
   ],
   "source": [
    "from sklearn.metrics import classification_report\n",
    "# pipeline.score(X_test, Y_test)\n",
    "\n",
    "# print(classification_report(Y_test, prediction_RF))\n",
    "print(classification_report(Y_test, prediction_RF, target_names=categories_colnames))"
   ]
  },
  {
   "cell_type": "code",
   "execution_count": null,
   "metadata": {},
   "outputs": [
    {
     "data": {
      "text/plain": [
       "0.058057142857142856"
      ]
     },
     "execution_count": 26,
     "metadata": {},
     "output_type": "execute_result"
    }
   ],
   "source": [
    "\n",
    "hamming_loss(Y_test, prediction_RF)"
   ]
  },
  {
   "cell_type": "code",
   "execution_count": null,
   "metadata": {},
   "outputs": [],
   "source": [
    "stop_code"
   ]
  },
  {
   "cell_type": "code",
   "execution_count": 71,
   "metadata": {},
   "outputs": [
    {
     "name": "stderr",
     "output_type": "stream",
     "text": [
      "c:\\Users\\q514907\\Anaconda3\\envs\\UdacityProject_2\\lib\\site-packages\\sklearn\\feature_extraction\\text.py:528: UserWarning: The parameter 'token_pattern' will not be used since 'tokenizer' is not None'\n",
      "  warnings.warn(\n"
     ]
    },
    {
     "name": "stdout",
     "output_type": "stream",
     "text": [
      "<class 'Exception'>\n",
      "Text '    ' replaced with empty string.\n",
      "                        precision    recall  f1-score   support\n",
      "\n",
      "               related       0.78      1.00      0.87      4946\n",
      "               request       0.90      0.22      0.36      1124\n",
      "                 offer       0.00      0.00      0.00        30\n",
      "           aid_related       0.75      0.63      0.69      2732\n",
      "          medical_help       0.00      0.00      0.00       536\n",
      "      medical_products       1.00      0.00      0.01       369\n",
      "     search_and_rescue       0.00      0.00      0.00       187\n",
      "              security       0.00      0.00      0.00       108\n",
      "              military       0.00      0.00      0.00       212\n",
      "                 water       0.00      0.00      0.00       426\n",
      "                  food       0.63      0.02      0.03       758\n",
      "               shelter       0.00      0.00      0.00       606\n",
      "              clothing       0.00      0.00      0.00       110\n",
      "                 money       0.00      0.00      0.00       149\n",
      "        missing_people       0.00      0.00      0.00        72\n",
      "              refugees       0.00      0.00      0.00       225\n",
      "                 death       0.00      0.00      0.00       291\n",
      "             other_aid       0.00      0.00      0.00       854\n",
      "infrastructure_related       0.00      0.00      0.00       430\n",
      "             transport       0.00      0.00      0.00       295\n",
      "             buildings       0.00      0.00      0.00       326\n",
      "           electricity       0.00      0.00      0.00       138\n",
      "                 tools       0.00      0.00      0.00        37\n",
      "             hospitals       0.00      0.00      0.00        74\n",
      "                 shops       0.00      0.00      0.00        31\n",
      "           aid_centers       0.00      0.00      0.00        75\n",
      "  other_infrastructure       0.00      0.00      0.00       271\n",
      "       weather_related       0.86      0.39      0.54      1755\n",
      "                floods       0.00      0.00      0.00       494\n",
      "                 storm       0.67      0.00      0.01       581\n",
      "                  fire       0.00      0.00      0.00        74\n",
      "            earthquake       0.97      0.11      0.19       598\n",
      "                  cold       0.00      0.00      0.00       142\n",
      "         other_weather       0.00      0.00      0.00       334\n",
      "         direct_report       0.83      0.17      0.28      1256\n",
      "\n",
      "             micro avg       0.78      0.38      0.51     20646\n",
      "             macro avg       0.21      0.07      0.08     20646\n",
      "          weighted avg       0.54      0.38      0.39     20646\n",
      "           samples avg       0.72      0.41      0.47     20646\n",
      "\n"
     ]
    },
    {
     "name": "stderr",
     "output_type": "stream",
     "text": [
      "c:\\Users\\q514907\\Anaconda3\\envs\\UdacityProject_2\\lib\\site-packages\\sklearn\\metrics\\_classification.py:1344: UndefinedMetricWarning: Precision and F-score are ill-defined and being set to 0.0 in labels with no predicted samples. Use `zero_division` parameter to control this behavior.\n",
      "  _warn_prf(average, modifier, msg_start, len(result))\n",
      "c:\\Users\\q514907\\Anaconda3\\envs\\UdacityProject_2\\lib\\site-packages\\sklearn\\metrics\\_classification.py:1344: UndefinedMetricWarning: Precision and F-score are ill-defined and being set to 0.0 in samples with no predicted labels. Use `zero_division` parameter to control this behavior.\n",
      "  _warn_prf(average, modifier, msg_start, len(result))\n",
      "c:\\Users\\q514907\\Anaconda3\\envs\\UdacityProject_2\\lib\\site-packages\\sklearn\\metrics\\_classification.py:1344: UndefinedMetricWarning: Recall and F-score are ill-defined and being set to 0.0 in samples with no true labels. Use `zero_division` parameter to control this behavior.\n",
      "  _warn_prf(average, modifier, msg_start, len(result))\n"
     ]
    }
   ],
   "source": [
    "\n",
    "pipeline_NB = Pipeline([\n",
    "        ('vect', CountVectorizer(tokenizer=tokenize_single)),\n",
    "#         ('tfidf', TfidfVectorizer(lowercase=False)),\n",
    "        ('tfidf', TfidfTransformer()),\n",
    "\n",
    "        ('clf', MultiOutputClassifier(MultinomialNB(\n",
    "            fit_prior=True, class_prior=None))\n",
    "            ),\n",
    "    ])\n",
    "\n",
    "# train the model using X_dtm & y\n",
    "pipeline_NB.fit(X_train, Y_train)\n",
    "# compute the testing accuracy\n",
    "prediction_NB = pipeline_NB.predict(X_test)\n",
    "\n",
    "print(classification_report(Y_test, prediction_NB, target_names=categories_colnames))"
   ]
  },
  {
   "cell_type": "code",
   "execution_count": 75,
   "metadata": {},
   "outputs": [
    {
     "data": {
      "text/plain": [
       "0.06570067399942918"
      ]
     },
     "execution_count": 75,
     "metadata": {},
     "output_type": "execute_result"
    }
   ],
   "source": [
    "hamming_loss(Y_test, prediction_NB)"
   ]
  },
  {
   "cell_type": "code",
   "execution_count": null,
   "metadata": {},
   "outputs": [
    {
     "data": {
      "text/plain": [
       "'We are a few kilometers in the road to jacmel, Please come help us'"
      ]
     },
     "execution_count": 257,
     "metadata": {},
     "output_type": "execute_result"
    }
   ],
   "source": [
    "df_refugees = df.loc[df[\"death\"] == 1]\n",
    "\n",
    "df_refugees[\"message\"].iloc[13]"
   ]
  },
  {
   "cell_type": "markdown",
   "metadata": {},
   "source": [
    "# SVM"
   ]
  },
  {
   "cell_type": "code",
   "execution_count": 76,
   "metadata": {},
   "outputs": [
    {
     "name": "stderr",
     "output_type": "stream",
     "text": [
      "c:\\Users\\q514907\\Anaconda3\\envs\\UdacityProject_2\\lib\\site-packages\\sklearn\\feature_extraction\\text.py:528: UserWarning: The parameter 'token_pattern' will not be used since 'tokenizer' is not None'\n",
      "  warnings.warn(\n"
     ]
    },
    {
     "name": "stdout",
     "output_type": "stream",
     "text": [
      "<class 'Exception'>\n",
      "Text '    ' replaced with empty string.\n",
      "              precision    recall  f1-score   support\n",
      "\n",
      "           0       0.83      0.95      0.89      4946\n",
      "           1       0.81      0.56      0.67      1124\n",
      "           2       0.00      0.00      0.00        30\n",
      "           3       0.78      0.67      0.72      2732\n",
      "           4       0.65      0.16      0.26       536\n",
      "           5       0.77      0.16      0.27       369\n",
      "           6       0.72      0.07      0.13       187\n",
      "           7       0.00      0.00      0.00       108\n",
      "           8       0.68      0.09      0.16       212\n",
      "           9       0.73      0.61      0.67       426\n",
      "          10       0.79      0.71      0.75       758\n",
      "          11       0.84      0.49      0.62       606\n",
      "          12       0.75      0.42      0.54       110\n",
      "          13       0.67      0.03      0.05       149\n",
      "          14       1.00      0.01      0.03        72\n",
      "          15       0.83      0.08      0.15       225\n",
      "          16       0.74      0.37      0.49       291\n",
      "          17       0.67      0.02      0.03       854\n",
      "          18       0.00      0.00      0.00       430\n",
      "          19       0.76      0.15      0.25       295\n",
      "          20       0.80      0.25      0.39       326\n",
      "          21       0.71      0.09      0.15       138\n",
      "          22       0.00      0.00      0.00        37\n",
      "          23       0.00      0.00      0.00        74\n",
      "          24       0.00      0.00      0.00        31\n",
      "          25       0.00      0.00      0.00        75\n",
      "          26       0.00      0.00      0.00       271\n",
      "          27       0.86      0.65      0.74      1755\n",
      "          28       0.90      0.48      0.63       494\n",
      "          29       0.78      0.53      0.63       581\n",
      "          30       0.82      0.12      0.21        74\n",
      "          31       0.91      0.75      0.82       598\n",
      "          32       0.75      0.19      0.30       142\n",
      "          33       1.00      0.01      0.03       334\n",
      "          34       0.74      0.43      0.55      1256\n",
      "\n",
      "   micro avg       0.81      0.56      0.66     20646\n",
      "   macro avg       0.61      0.26      0.32     20646\n",
      "weighted avg       0.76      0.56      0.60     20646\n",
      " samples avg       0.66      0.49      0.52     20646\n",
      "\n"
     ]
    },
    {
     "name": "stderr",
     "output_type": "stream",
     "text": [
      "c:\\Users\\q514907\\Anaconda3\\envs\\UdacityProject_2\\lib\\site-packages\\sklearn\\metrics\\_classification.py:1344: UndefinedMetricWarning: Precision and F-score are ill-defined and being set to 0.0 in labels with no predicted samples. Use `zero_division` parameter to control this behavior.\n",
      "  _warn_prf(average, modifier, msg_start, len(result))\n",
      "c:\\Users\\q514907\\Anaconda3\\envs\\UdacityProject_2\\lib\\site-packages\\sklearn\\metrics\\_classification.py:1344: UndefinedMetricWarning: Precision and F-score are ill-defined and being set to 0.0 in samples with no predicted labels. Use `zero_division` parameter to control this behavior.\n",
      "  _warn_prf(average, modifier, msg_start, len(result))\n",
      "c:\\Users\\q514907\\Anaconda3\\envs\\UdacityProject_2\\lib\\site-packages\\sklearn\\metrics\\_classification.py:1344: UndefinedMetricWarning: Recall and F-score are ill-defined and being set to 0.0 in samples with no true labels. Use `zero_division` parameter to control this behavior.\n",
      "  _warn_prf(average, modifier, msg_start, len(result))\n"
     ]
    },
    {
     "data": {
      "text/plain": [
       "0.05172012557904674"
      ]
     },
     "execution_count": 76,
     "metadata": {},
     "output_type": "execute_result"
    }
   ],
   "source": [
    "from sklearn.linear_model import SGDClassifier\n",
    "from sklearn.svm import SVC\n",
    "from sklearn.linear_model import LogisticRegression\n",
    "\n",
    "pipeline_SVM = Pipeline([\n",
    "        ('vect', CountVectorizer(tokenizer=tokenize_single)),\n",
    "#         ('tfidf', TfidfVectorizer(lowercase=False)),\n",
    "        ('tfidf', TfidfTransformer()),\n",
    "\n",
    "        ('clf', MultiOutputClassifier(SGDClassifier(\n",
    "                                        ))\n",
    "            ),\n",
    "    ])\n",
    "\n",
    "# train the model using X_dtm & y\n",
    "pipeline_SVM.fit(X_train, Y_train)\n",
    "# compute the testing accuracy\n",
    "prediction_SVM = pipeline_SVM.predict(X_test)\n",
    "\n",
    "print(classification_report(Y_test, prediction_SVM))\n",
    "hamming_loss(Y_test, prediction_SVM)"
   ]
  },
  {
   "cell_type": "markdown",
   "metadata": {},
   "source": [
    "# Test Multilayer Perceptron MLP"
   ]
  },
  {
   "cell_type": "code",
   "execution_count": null,
   "metadata": {},
   "outputs": [],
   "source": [
    "from sklearn.neural_network import MLPClassifier\n",
    "\n",
    "pipeline = Pipeline([\n",
    "        ('vect', CountVectorizer(tokenizer=tokenize_single)),\n",
    "#         ('tfidf', TfidfVectorizer(lowercase=False)),\n",
    "        ('tfidf', TfidfTransformer()),\n",
    "\n",
    "        ('clf', MLPClassifier(random_state=1, max_iter=300)),\n",
    "    ])\n",
    "\n",
    "# train the model using X_dtm & y\n",
    "pipeline.fit(X_train, Y_train)\n",
    "# compute the testing accuracy\n",
    "prediction = pipeline.predict(X_test)"
   ]
  },
  {
   "cell_type": "code",
   "execution_count": null,
   "metadata": {},
   "outputs": [],
   "source": [
    "from sklearn.metrics import classification_report\n",
    "# pipeline.score(X_test, Y_test)\n",
    "\n",
    "print(classification_report(Y_test, prediction))"
   ]
  },
  {
   "cell_type": "markdown",
   "metadata": {},
   "source": [
    "### 4. Train pipeline\n",
    "- Split data into train and test sets\n",
    "- Train pipeline"
   ]
  },
  {
   "cell_type": "code",
   "execution_count": null,
   "metadata": {},
   "outputs": [],
   "source": [
    "print(\"Test\")"
   ]
  },
  {
   "cell_type": "markdown",
   "metadata": {},
   "source": [
    "### 5. Test your model\n",
    "Report the f1 score, precision and recall for each output category of the dataset. You can do this by iterating through the columns and calling sklearn's `classification_report` on each."
   ]
  },
  {
   "cell_type": "code",
   "execution_count": null,
   "metadata": {},
   "outputs": [],
   "source": []
  },
  {
   "cell_type": "markdown",
   "metadata": {},
   "source": [
    "### 6. Improve your model\n",
    "Use grid search to find better parameters. "
   ]
  },
  {
   "cell_type": "code",
   "execution_count": null,
   "metadata": {},
   "outputs": [],
   "source": [
    "parameters = 1\n",
    "\n",
    "cv = 1"
   ]
  },
  {
   "cell_type": "markdown",
   "metadata": {},
   "source": [
    "### 7. Test your model\n",
    "Show the accuracy, precision, and recall of the tuned model.  \n",
    "\n",
    "Since this project focuses on code quality, process, and  pipelines, there is no minimum performance metric needed to pass. However, make sure to fine tune your models for accuracy, precision and recall to make your project stand out - especially for your portfolio!"
   ]
  },
  {
   "cell_type": "code",
   "execution_count": null,
   "metadata": {},
   "outputs": [],
   "source": []
  },
  {
   "cell_type": "markdown",
   "metadata": {},
   "source": [
    "### 8. Try improving your model further. Here are a few ideas:\n",
    "* try other machine learning algorithms\n",
    "* add other features besides the TF-IDF"
   ]
  },
  {
   "cell_type": "code",
   "execution_count": null,
   "metadata": {},
   "outputs": [],
   "source": []
  },
  {
   "cell_type": "markdown",
   "metadata": {},
   "source": [
    "### 9. Export your model as a pickle file"
   ]
  },
  {
   "cell_type": "code",
   "execution_count": 80,
   "metadata": {},
   "outputs": [],
   "source": [
    "import pickle\n",
    "\n",
    "pickle.dump()"
   ]
  },
  {
   "cell_type": "markdown",
   "metadata": {},
   "source": [
    "### 10. Use this notebook to complete `train.py`\n",
    "Use the template file attached in the Resources folder to write a script that runs the steps above to create a database and export a model based on a new dataset specified by the user."
   ]
  },
  {
   "cell_type": "code",
   "execution_count": null,
   "metadata": {},
   "outputs": [],
   "source": []
  }
 ],
 "metadata": {
  "kernelspec": {
   "display_name": "UdacityProject_2",
   "language": "python",
   "name": "python3"
  },
  "language_info": {
   "codemirror_mode": {
    "name": "ipython",
    "version": 3
   },
   "file_extension": ".py",
   "mimetype": "text/x-python",
   "name": "python",
   "nbconvert_exporter": "python",
   "pygments_lexer": "ipython3",
   "version": "3.10.8"
  },
  "vscode": {
   "interpreter": {
    "hash": "678b69c4d66602396912dfdc9121749e834caa328c804ef7a07b8e73a4e1d706"
   }
  }
 },
 "nbformat": 4,
 "nbformat_minor": 2
}
