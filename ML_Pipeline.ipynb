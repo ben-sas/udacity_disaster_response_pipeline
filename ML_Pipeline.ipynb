{
 "cells": [
  {
   "cell_type": "markdown",
   "metadata": {},
   "source": [
    "# ML Pipeline Preparation\n",
    "Follow the instructions below to help you create your ML pipeline.\n",
    "### 1. Import libraries and load data from database.\n",
    "- Import Python libraries\n",
    "- Load dataset from database with [`read_sql_table`](https://pandas.pydata.org/pandas-docs/stable/generated/pandas.read_sql_table.html)\n",
    "- Define feature and target variables X and Y"
   ]
  },
  {
   "cell_type": "code",
   "execution_count": 132,
   "metadata": {},
   "outputs": [
    {
     "name": "stderr",
     "output_type": "stream",
     "text": [
      "[nltk_data] Error loading punkt: <urlopen error Tunnel connection\n",
      "[nltk_data]     failed: 501 Not Implemented>\n",
      "[nltk_data] Error loading stopwords: <urlopen error Tunnel connection\n",
      "[nltk_data]     failed: 501 Not Implemented>\n",
      "[nltk_data] Error loading wordnet: <urlopen error Tunnel connection\n",
      "[nltk_data]     failed: 501 Not Implemented>\n"
     ]
    }
   ],
   "source": [
    "# import libraries\n",
    "import pandas as pd\n",
    "import numpy as np\n",
    "from sqlalchemy import create_engine\n",
    "import pickle\n",
    "\n",
    "from nltk import word_tokenize, sent_tokenize\n",
    "from nltk.corpus import stopwords\n",
    "from nltk.corpus import wordnet as wn\n",
    "from nltk.stem import WordNetLemmatizer\n",
    "from nltk.stem import PorterStemmer\n",
    "\n",
    "import nltk\n",
    "nltk.download('punkt')\n",
    "nltk.download('stopwords')\n",
    "nltk.download('wordnet')\n",
    "\n",
    "import string\n",
    "string.punctuation\n",
    "\n",
    "from sklearn.metrics import classification_report\n",
    "from sklearn.multioutput import MultiOutputClassifier, MultiOutputRegressor\n",
    "\n"
   ]
  },
  {
   "cell_type": "code",
   "execution_count": 133,
   "metadata": {},
   "outputs": [
    {
     "data": {
      "text/html": [
       "<div>\n",
       "<style scoped>\n",
       "    .dataframe tbody tr th:only-of-type {\n",
       "        vertical-align: middle;\n",
       "    }\n",
       "\n",
       "    .dataframe tbody tr th {\n",
       "        vertical-align: top;\n",
       "    }\n",
       "\n",
       "    .dataframe thead th {\n",
       "        text-align: right;\n",
       "    }\n",
       "</style>\n",
       "<table border=\"1\" class=\"dataframe\">\n",
       "  <thead>\n",
       "    <tr style=\"text-align: right;\">\n",
       "      <th></th>\n",
       "      <th>id</th>\n",
       "      <th>message</th>\n",
       "      <th>original</th>\n",
       "      <th>genre</th>\n",
       "      <th>related</th>\n",
       "      <th>request</th>\n",
       "      <th>offer</th>\n",
       "      <th>aid_related</th>\n",
       "      <th>medical_help</th>\n",
       "      <th>medical_products</th>\n",
       "      <th>...</th>\n",
       "      <th>aid_centers</th>\n",
       "      <th>other_infrastructure</th>\n",
       "      <th>weather_related</th>\n",
       "      <th>floods</th>\n",
       "      <th>storm</th>\n",
       "      <th>fire</th>\n",
       "      <th>earthquake</th>\n",
       "      <th>cold</th>\n",
       "      <th>other_weather</th>\n",
       "      <th>direct_report</th>\n",
       "    </tr>\n",
       "  </thead>\n",
       "  <tbody>\n",
       "    <tr>\n",
       "      <th>0</th>\n",
       "      <td>2</td>\n",
       "      <td>Weather update - a cold front from Cuba that c...</td>\n",
       "      <td>Un front froid se retrouve sur Cuba ce matin. ...</td>\n",
       "      <td>direct</td>\n",
       "      <td>1</td>\n",
       "      <td>0</td>\n",
       "      <td>0</td>\n",
       "      <td>0</td>\n",
       "      <td>0</td>\n",
       "      <td>0</td>\n",
       "      <td>...</td>\n",
       "      <td>0</td>\n",
       "      <td>0</td>\n",
       "      <td>0</td>\n",
       "      <td>0</td>\n",
       "      <td>0</td>\n",
       "      <td>0</td>\n",
       "      <td>0</td>\n",
       "      <td>0</td>\n",
       "      <td>0</td>\n",
       "      <td>0</td>\n",
       "    </tr>\n",
       "    <tr>\n",
       "      <th>1</th>\n",
       "      <td>7</td>\n",
       "      <td>Is the Hurricane over or is it not over</td>\n",
       "      <td>Cyclone nan fini osinon li pa fini</td>\n",
       "      <td>direct</td>\n",
       "      <td>1</td>\n",
       "      <td>0</td>\n",
       "      <td>0</td>\n",
       "      <td>1</td>\n",
       "      <td>0</td>\n",
       "      <td>0</td>\n",
       "      <td>...</td>\n",
       "      <td>0</td>\n",
       "      <td>0</td>\n",
       "      <td>1</td>\n",
       "      <td>0</td>\n",
       "      <td>1</td>\n",
       "      <td>0</td>\n",
       "      <td>0</td>\n",
       "      <td>0</td>\n",
       "      <td>0</td>\n",
       "      <td>0</td>\n",
       "    </tr>\n",
       "    <tr>\n",
       "      <th>2</th>\n",
       "      <td>8</td>\n",
       "      <td>Looking for someone but no name</td>\n",
       "      <td>Patnm, di Maryani relem pou li banm nouvel li ...</td>\n",
       "      <td>direct</td>\n",
       "      <td>1</td>\n",
       "      <td>0</td>\n",
       "      <td>0</td>\n",
       "      <td>0</td>\n",
       "      <td>0</td>\n",
       "      <td>0</td>\n",
       "      <td>...</td>\n",
       "      <td>0</td>\n",
       "      <td>0</td>\n",
       "      <td>0</td>\n",
       "      <td>0</td>\n",
       "      <td>0</td>\n",
       "      <td>0</td>\n",
       "      <td>0</td>\n",
       "      <td>0</td>\n",
       "      <td>0</td>\n",
       "      <td>0</td>\n",
       "    </tr>\n",
       "    <tr>\n",
       "      <th>3</th>\n",
       "      <td>9</td>\n",
       "      <td>UN reports Leogane 80-90 destroyed. Only Hospi...</td>\n",
       "      <td>UN reports Leogane 80-90 destroyed. Only Hospi...</td>\n",
       "      <td>direct</td>\n",
       "      <td>1</td>\n",
       "      <td>1</td>\n",
       "      <td>0</td>\n",
       "      <td>1</td>\n",
       "      <td>0</td>\n",
       "      <td>1</td>\n",
       "      <td>...</td>\n",
       "      <td>0</td>\n",
       "      <td>0</td>\n",
       "      <td>0</td>\n",
       "      <td>0</td>\n",
       "      <td>0</td>\n",
       "      <td>0</td>\n",
       "      <td>0</td>\n",
       "      <td>0</td>\n",
       "      <td>0</td>\n",
       "      <td>0</td>\n",
       "    </tr>\n",
       "    <tr>\n",
       "      <th>4</th>\n",
       "      <td>12</td>\n",
       "      <td>says: west side of Haiti, rest of the country ...</td>\n",
       "      <td>facade ouest d Haiti et le reste du pays aujou...</td>\n",
       "      <td>direct</td>\n",
       "      <td>1</td>\n",
       "      <td>0</td>\n",
       "      <td>0</td>\n",
       "      <td>0</td>\n",
       "      <td>0</td>\n",
       "      <td>0</td>\n",
       "      <td>...</td>\n",
       "      <td>0</td>\n",
       "      <td>0</td>\n",
       "      <td>0</td>\n",
       "      <td>0</td>\n",
       "      <td>0</td>\n",
       "      <td>0</td>\n",
       "      <td>0</td>\n",
       "      <td>0</td>\n",
       "      <td>0</td>\n",
       "      <td>0</td>\n",
       "    </tr>\n",
       "  </tbody>\n",
       "</table>\n",
       "<p>5 rows × 39 columns</p>\n",
       "</div>"
      ],
      "text/plain": [
       "   id                                            message  \\\n",
       "0   2  Weather update - a cold front from Cuba that c...   \n",
       "1   7            Is the Hurricane over or is it not over   \n",
       "2   8                    Looking for someone but no name   \n",
       "3   9  UN reports Leogane 80-90 destroyed. Only Hospi...   \n",
       "4  12  says: west side of Haiti, rest of the country ...   \n",
       "\n",
       "                                            original   genre  related  \\\n",
       "0  Un front froid se retrouve sur Cuba ce matin. ...  direct        1   \n",
       "1                 Cyclone nan fini osinon li pa fini  direct        1   \n",
       "2  Patnm, di Maryani relem pou li banm nouvel li ...  direct        1   \n",
       "3  UN reports Leogane 80-90 destroyed. Only Hospi...  direct        1   \n",
       "4  facade ouest d Haiti et le reste du pays aujou...  direct        1   \n",
       "\n",
       "   request  offer  aid_related  medical_help  medical_products  ...  \\\n",
       "0        0      0            0             0                 0  ...   \n",
       "1        0      0            1             0                 0  ...   \n",
       "2        0      0            0             0                 0  ...   \n",
       "3        1      0            1             0                 1  ...   \n",
       "4        0      0            0             0                 0  ...   \n",
       "\n",
       "   aid_centers  other_infrastructure  weather_related  floods  storm  fire  \\\n",
       "0            0                     0                0       0      0     0   \n",
       "1            0                     0                1       0      1     0   \n",
       "2            0                     0                0       0      0     0   \n",
       "3            0                     0                0       0      0     0   \n",
       "4            0                     0                0       0      0     0   \n",
       "\n",
       "   earthquake  cold  other_weather  direct_report  \n",
       "0           0     0              0              0  \n",
       "1           0     0              0              0  \n",
       "2           0     0              0              0  \n",
       "3           0     0              0              0  \n",
       "4           0     0              0              0  \n",
       "\n",
       "[5 rows x 39 columns]"
      ]
     },
     "execution_count": 133,
     "metadata": {},
     "output_type": "execute_result"
    }
   ],
   "source": [
    "# load data from database\n",
    "engine = create_engine('sqlite:///UdacityDisasterResponse.db')\n",
    "df = pd.read_sql_table(\"Messages_Categories\", con=engine)\n",
    "\n",
    "# df = df[:200]\n",
    "\n",
    "# df = pd.read_sql_table(\"Messages_Categories\", con=\"sqlite:///DisasterResponse.db\")\n",
    "X = df[\"message\"]\n",
    "Y = df.iloc[:,4:].astype(\"int\")\n",
    "\n",
    "df.head(5)"
   ]
  },
  {
   "cell_type": "markdown",
   "metadata": {},
   "source": [
    "### 2. Write a tokenization function to process your text data"
   ]
  },
  {
   "cell_type": "code",
   "execution_count": 134,
   "metadata": {},
   "outputs": [],
   "source": [
    "def tokenize(text):\n",
    "    messages_tokenized = []\n",
    "    \n",
    "    for index, message in enumerate(text):\n",
    "        message = message.lower()\n",
    "        \n",
    "        # Remove punctuation\n",
    "        # https://stackoverflow.com/questions/265960/best-way-to-strip-punctuation-from-a-string\n",
    "        message = message.translate(str.maketrans('', '', string.punctuation))\n",
    "        \n",
    "        # Tokenize into sentences and then words\n",
    "        sentence_list = sent_tokenize(message)\n",
    "        \n",
    "        try:\n",
    "            words_tokenized = [word_tokenize(sentence) for sentence in sentence_list][0]\n",
    "        except:\n",
    "            words_tokenized = message\n",
    "#             print(Exception)\n",
    "            print(f\"Message {message} at index {index} caused an error. Message not tokenzied.\")\n",
    "            \n",
    "\n",
    "        # Remove stopwords\n",
    "        words_tokenized = [w for w in words_tokenized if w not in stopwords.words(\"english\")]\n",
    "        \n",
    "        messages_tokenized.append(words_tokenized)\n",
    "        \n",
    "    return messages_tokenized\n"
   ]
  },
  {
   "cell_type": "code",
   "execution_count": 135,
   "metadata": {},
   "outputs": [],
   "source": [
    "def tokenize_single(text):\n",
    "    \"\"\"\n",
    "    Tokenize text into sentences and then single words. Stopwords are also removed.\n",
    "    \"\"\"\n",
    "    \n",
    "    message = text.lower()\n",
    "    \n",
    "    # Remove punctuation\n",
    "    # https://stackoverflow.com/questions/265960/best-way-to-strip-punctuation-from-a-string\n",
    "    message = message.translate(str.maketrans('', '', string.punctuation))\n",
    "        \n",
    "    # Tokenize into sentences and then words\n",
    "    sentence_list = sent_tokenize(message)\n",
    "        \n",
    "    try:\n",
    "        words_tokenized = [word_tokenize(sentence) for sentence in sentence_list][0]\n",
    "    except:\n",
    "        words_tokenized = [\"\"]\n",
    "        print(Exception)\n",
    "        print(f\"Text '{text}' replaced with empty string.\")\n",
    "\n",
    "    # Remove stopwords\n",
    "    words_tokenized = [w for w in words_tokenized if w not in stopwords.words(\"english\")]\n",
    "    \n",
    "    \n",
    "    return words_tokenized\n"
   ]
  },
  {
   "cell_type": "code",
   "execution_count": 136,
   "metadata": {},
   "outputs": [],
   "source": [
    "def lemmatize(text):\n",
    "    \"\"\"\n",
    "    This function takes a series of text pieces, tokenizes by words via the tokenize() function and then lemmatizes each token.\n",
    "    The output is a list of lemmatized tokens per message.\n",
    "    \"\"\"\n",
    "    # tokenize text\n",
    "    messages_tokenized = tokenize(text)\n",
    "    \n",
    "    # initiate lemmatizer\n",
    "    lemmatizer = WordNetLemmatizer()\n",
    "    \n",
    "    messages_lemmatized = []\n",
    "    \n",
    "    for message in messages_tokenized:\n",
    "        try:\n",
    "            words_lemmatized = [lemmatizer.lemmatize(token) for token in message]\n",
    "            messages_lemmatized.append(words_lemmatized)\n",
    "            max_index = messages_tokenized.index(message)\n",
    "        except:\n",
    "            print(f\"Message at index {max_index + 1} caused an error. Message not lemmatized.\")\n",
    "            \n",
    "\n",
    "    return messages_lemmatized"
   ]
  },
  {
   "cell_type": "code",
   "execution_count": 137,
   "metadata": {},
   "outputs": [],
   "source": [
    "def lemmatize_single(text):\n",
    "    \"\"\"\n",
    "    This function takes a piece of text, tokenizes by words via the tokenize() function and then lemmatizes each token.\n",
    "    The output is a list of lemmatized tokens per corpus.\n",
    "    \"\"\"\n",
    "    # tokenize text\n",
    "    message_tokenized = tokenize_single(text)\n",
    "    \n",
    "    # initiate lemmatizer\n",
    "    lemmatizer = WordNetLemmatizer()\n",
    "    words_lemmatized = [lemmatizer.lemmatize(token) for token in message_tokenized]\n",
    "    \n",
    "    # Apply porter stemmer\n",
    "    ps = PorterStemmer()\n",
    "    words_stemmed = [ps.stem(word) for word in words_lemmatized]\n",
    "    \n",
    "    return words_stemmed"
   ]
  },
  {
   "cell_type": "markdown",
   "metadata": {},
   "source": [
    "### 3. Build a machine learning pipeline\n",
    "This machine pipeline should take in the `message` column as input and output classification results on the other 36 categories in the dataset. You may find the [MultiOutputClassifier](http://scikit-learn.org/stable/modules/generated/sklearn.multioutput.MultiOutputClassifier.html) helpful for predicting multiple target variables."
   ]
  },
  {
   "cell_type": "code",
   "execution_count": 138,
   "metadata": {},
   "outputs": [],
   "source": [
    "from sklearn.pipeline import Pipeline\n",
    "# from sklearn.metrics import confusion_matrix\n",
    "from sklearn.model_selection import train_test_split\n",
    "from sklearn.ensemble import RandomForestClassifier\n",
    "from sklearn.feature_extraction.text import CountVectorizer, TfidfTransformer\n",
    "from sklearn.metrics import hamming_loss\n",
    "\n",
    "from sklearn.feature_extraction.text import TfidfVectorizer\n",
    "from sklearn.multiclass import OneVsRestClassifier\n",
    "from sklearn.naive_bayes import MultinomialNB\n",
    "from sklearn.metrics import accuracy_score\n",
    "from sklearn.multioutput import MultiOutputClassifier, MultiOutputRegressor\n",
    "from sklearn.metrics import classification_report\n",
    "\n",
    "from sklearn.linear_model import SGDClassifier\n",
    "from sklearn.svm import SVC\n",
    "from sklearn.linear_model import LogisticRegression\n",
    "\n",
    "from sklearn.neural_network import MLPClassifier\n",
    "from sklearn.neighbors import KNeighborsClassifier\n",
    "from sklearn.model_selection import GridSearchCV\n",
    "\n",
    "\n"
   ]
  },
  {
   "cell_type": "code",
   "execution_count": 139,
   "metadata": {},
   "outputs": [
    {
     "name": "stdout",
     "output_type": "stream",
     "text": [
      "Done.\n"
     ]
    }
   ],
   "source": [
    "Y.sum(axis=1)\n",
    "categories_colnames = list(Y.columns)\n",
    "categories_colnames\n",
    "\n",
    "X_subset = X[:2]\n",
    "Y_subset = Y.head(2)\n",
    "\n",
    "X_train, X_test, Y_train, Y_test = train_test_split(X, Y)\n",
    "# X_train, X_test, Y_train, Y_test = train_test_split(X_subset, Y_subset)\n",
    "\n",
    "# Y_train[\"request\"]\n",
    "\n",
    "print(\"Done.\")"
   ]
  },
  {
   "cell_type": "code",
   "execution_count": null,
   "metadata": {
    "scrolled": true
   },
   "outputs": [],
   "source": []
  },
  {
   "cell_type": "code",
   "execution_count": 140,
   "metadata": {},
   "outputs": [],
   "source": [
    "# print(classification_report(Y_test[\"related\"], prediction))\n",
    "# print(classification_report(Y_test[\"related\"], model_dict[\"related\"].predict(X_test)))\n",
    "\n"
   ]
  },
  {
   "cell_type": "markdown",
   "metadata": {},
   "source": [
    "# Test with MultiOutputClassifier()"
   ]
  },
  {
   "cell_type": "code",
   "execution_count": 141,
   "metadata": {},
   "outputs": [
    {
     "name": "stderr",
     "output_type": "stream",
     "text": [
      "c:\\Users\\q514907\\Anaconda3\\envs\\UdacityProject_2\\lib\\site-packages\\sklearn\\feature_extraction\\text.py:528: UserWarning: The parameter 'token_pattern' will not be used since 'tokenizer' is not None'\n",
      "  warnings.warn(\n"
     ]
    },
    {
     "name": "stdout",
     "output_type": "stream",
     "text": [
      "<class 'Exception'>\n",
      "Text '    ' replaced with empty string.\n"
     ]
    }
   ],
   "source": [
    "pipeline_modular = Pipeline([\n",
    "        ('vect', CountVectorizer(tokenizer=lemmatize_single)),\n",
    "#         ('tfidf', TfidfVectorizer(lowercase=False)),\n",
    "        ('tfidf', TfidfTransformer()),\n",
    "\n",
    "        # ('clf', MultiOutputClassifier(RandomForestClassifier())),\n",
    "        # ('clf', MultiOutputClassifier(MultinomialNB(fit_prior=True, class_prior=None))),\n",
    "        ('clf', MultiOutputClassifier(SGDClassifier())),\n",
    "        # ('clf', MLPClassifier(random_state=1, max_iter=300)),\n",
    "\n",
    "\n",
    "\n",
    "    ])\n",
    "\n",
    "# train the model using X_dtm & y\n",
    "pipeline_modular.fit(X_train, Y_train)\n",
    "# compute the testing accuracy\n",
    "prediction_modular = pipeline_modular.predict(X_test)"
   ]
  },
  {
   "cell_type": "code",
   "execution_count": 142,
   "metadata": {},
   "outputs": [
    {
     "name": "stdout",
     "output_type": "stream",
     "text": [
      "                        precision    recall  f1-score   support\n",
      "\n",
      "               related       0.84      0.95      0.89      4970\n",
      "               request       0.79      0.55      0.65      1121\n",
      "                 offer       0.00      0.00      0.00        35\n",
      "           aid_related       0.77      0.68      0.72      2778\n",
      "          medical_help       0.70      0.18      0.29       539\n",
      "      medical_products       0.73      0.19      0.30       350\n",
      "     search_and_rescue       0.74      0.12      0.20       198\n",
      "              security       0.00      0.00      0.00       119\n",
      "              military       0.69      0.12      0.20       211\n",
      "                 water       0.74      0.61      0.67       415\n",
      "                  food       0.81      0.73      0.77       749\n",
      "               shelter       0.83      0.52      0.64       593\n",
      "              clothing       0.68      0.50      0.58        86\n",
      "                 money       0.64      0.06      0.12       142\n",
      "        missing_people       0.00      0.00      0.00        77\n",
      "              refugees       0.73      0.15      0.26       239\n",
      "                 death       0.76      0.43      0.55       313\n",
      "             other_aid       0.86      0.01      0.03       862\n",
      "infrastructure_related       0.00      0.00      0.00       441\n",
      "             transport       0.80      0.11      0.19       304\n",
      "             buildings       0.76      0.27      0.40       325\n",
      "           electricity       0.56      0.10      0.17       138\n",
      "                 tools       0.00      0.00      0.00        45\n",
      "             hospitals       0.00      0.00      0.00        78\n",
      "                 shops       0.00      0.00      0.00        36\n",
      "           aid_centers       0.00      0.00      0.00        77\n",
      "  other_infrastructure       0.00      0.00      0.00       285\n",
      "       weather_related       0.87      0.69      0.77      1833\n",
      "                floods       0.91      0.49      0.64       535\n",
      "                 storm       0.76      0.59      0.67       619\n",
      "                  fire       0.80      0.06      0.12        64\n",
      "            earthquake       0.91      0.78      0.84       630\n",
      "                  cold       0.80      0.22      0.34       129\n",
      "         other_weather       0.68      0.06      0.11       338\n",
      "         direct_report       0.72      0.43      0.54      1268\n",
      "\n",
      "             micro avg       0.81      0.57      0.67     20942\n",
      "             macro avg       0.57      0.27      0.33     20942\n",
      "          weighted avg       0.75      0.57      0.61     20942\n",
      "           samples avg       0.66      0.50      0.52     20942\n",
      "\n",
      "Hamming loss: 0.05173329820632725\n"
     ]
    },
    {
     "name": "stderr",
     "output_type": "stream",
     "text": [
      "c:\\Users\\q514907\\Anaconda3\\envs\\UdacityProject_2\\lib\\site-packages\\sklearn\\metrics\\_classification.py:1344: UndefinedMetricWarning: Precision and F-score are ill-defined and being set to 0.0 in labels with no predicted samples. Use `zero_division` parameter to control this behavior.\n",
      "  _warn_prf(average, modifier, msg_start, len(result))\n",
      "c:\\Users\\q514907\\Anaconda3\\envs\\UdacityProject_2\\lib\\site-packages\\sklearn\\metrics\\_classification.py:1344: UndefinedMetricWarning: Precision and F-score are ill-defined and being set to 0.0 in samples with no predicted labels. Use `zero_division` parameter to control this behavior.\n",
      "  _warn_prf(average, modifier, msg_start, len(result))\n",
      "c:\\Users\\q514907\\Anaconda3\\envs\\UdacityProject_2\\lib\\site-packages\\sklearn\\metrics\\_classification.py:1344: UndefinedMetricWarning: Recall and F-score are ill-defined and being set to 0.0 in samples with no true labels. Use `zero_division` parameter to control this behavior.\n",
      "  _warn_prf(average, modifier, msg_start, len(result))\n"
     ]
    }
   ],
   "source": [
    "print(classification_report(Y_test, prediction_modular, target_names=categories_colnames))\n",
    "print(f\"Hamming loss: {hamming_loss(Y_test, prediction_modular)}\")"
   ]
  },
  {
   "cell_type": "markdown",
   "metadata": {},
   "source": [
    "### 4. Train pipeline\n",
    "- Split data into train and test sets\n",
    "- Train pipeline"
   ]
  },
  {
   "cell_type": "code",
   "execution_count": 143,
   "metadata": {},
   "outputs": [
    {
     "name": "stdout",
     "output_type": "stream",
     "text": [
      "Test\n"
     ]
    }
   ],
   "source": [
    "print(\"Test\")"
   ]
  },
  {
   "cell_type": "markdown",
   "metadata": {},
   "source": [
    "### 5. Test your model\n",
    "Report the f1 score, precision and recall for each output category of the dataset. You can do this by iterating through the columns and calling sklearn's `classification_report` on each."
   ]
  },
  {
   "cell_type": "code",
   "execution_count": null,
   "metadata": {},
   "outputs": [],
   "source": []
  },
  {
   "cell_type": "markdown",
   "metadata": {},
   "source": [
    "### 6. Improve your model\n",
    "Use grid search to find better parameters. "
   ]
  },
  {
   "cell_type": "code",
   "execution_count": 144,
   "metadata": {},
   "outputs": [],
   "source": [
    "parameters = 1\n",
    "\n",
    "cv = 1"
   ]
  },
  {
   "cell_type": "code",
   "execution_count": 145,
   "metadata": {},
   "outputs": [
    {
     "data": {
      "text/plain": [
       "['hinge',\n",
       " 'log_loss',\n",
       " 'log',\n",
       " 'modified_huber',\n",
       " 'squared_hinge',\n",
       " 'perceptron',\n",
       " 'squared_error',\n",
       " 'huber',\n",
       " 'epsilon_insensitive',\n",
       " 'squared_epsilon_insensitive']"
      ]
     },
     "execution_count": 145,
     "metadata": {},
     "output_type": "execute_result"
    }
   ],
   "source": [
    "[\"hinge\", \"log_loss\", \"log\", \"modified_huber\", \"squared_hinge\", \"perceptron\", \"squared_error\", \"huber\", \"epsilon_insensitive\", \"squared_epsilon_insensitive\"]"
   ]
  },
  {
   "cell_type": "code",
   "execution_count": 146,
   "metadata": {},
   "outputs": [],
   "source": [
    "parameters_algorithms = {\n",
    "    'clf__estimator': [SGDClassifier(), MultinomialNB(), RandomForestClassifier(), KNeighborsClassifier()],\n",
    "}\n",
    "\n",
    "grid_search_model = GridSearchCV(pipeline_modular, param_grid=parameters_algorithms)"
   ]
  },
  {
   "cell_type": "code",
   "execution_count": 147,
   "metadata": {},
   "outputs": [
    {
     "name": "stderr",
     "output_type": "stream",
     "text": [
      "c:\\Users\\q514907\\Anaconda3\\envs\\UdacityProject_2\\lib\\site-packages\\sklearn\\feature_extraction\\text.py:528: UserWarning: The parameter 'token_pattern' will not be used since 'tokenizer' is not None'\n",
      "  warnings.warn(\n"
     ]
    },
    {
     "name": "stdout",
     "output_type": "stream",
     "text": [
      "<class 'Exception'>\n",
      "Text '    ' replaced with empty string.\n"
     ]
    },
    {
     "name": "stderr",
     "output_type": "stream",
     "text": [
      "c:\\Users\\q514907\\Anaconda3\\envs\\UdacityProject_2\\lib\\site-packages\\sklearn\\feature_extraction\\text.py:528: UserWarning: The parameter 'token_pattern' will not be used since 'tokenizer' is not None'\n",
      "  warnings.warn(\n"
     ]
    },
    {
     "name": "stdout",
     "output_type": "stream",
     "text": [
      "<class 'Exception'>\n",
      "Text '    ' replaced with empty string.\n"
     ]
    },
    {
     "name": "stderr",
     "output_type": "stream",
     "text": [
      "c:\\Users\\q514907\\Anaconda3\\envs\\UdacityProject_2\\lib\\site-packages\\sklearn\\feature_extraction\\text.py:528: UserWarning: The parameter 'token_pattern' will not be used since 'tokenizer' is not None'\n",
      "  warnings.warn(\n"
     ]
    },
    {
     "name": "stdout",
     "output_type": "stream",
     "text": [
      "<class 'Exception'>\n",
      "Text '    ' replaced with empty string.\n"
     ]
    },
    {
     "name": "stderr",
     "output_type": "stream",
     "text": [
      "c:\\Users\\q514907\\Anaconda3\\envs\\UdacityProject_2\\lib\\site-packages\\sklearn\\feature_extraction\\text.py:528: UserWarning: The parameter 'token_pattern' will not be used since 'tokenizer' is not None'\n",
      "  warnings.warn(\n"
     ]
    },
    {
     "name": "stdout",
     "output_type": "stream",
     "text": [
      "<class 'Exception'>\n",
      "Text '    ' replaced with empty string.\n"
     ]
    },
    {
     "name": "stderr",
     "output_type": "stream",
     "text": [
      "c:\\Users\\q514907\\Anaconda3\\envs\\UdacityProject_2\\lib\\site-packages\\sklearn\\feature_extraction\\text.py:528: UserWarning: The parameter 'token_pattern' will not be used since 'tokenizer' is not None'\n",
      "  warnings.warn(\n"
     ]
    },
    {
     "name": "stdout",
     "output_type": "stream",
     "text": [
      "<class 'Exception'>\n",
      "Text '    ' replaced with empty string.\n"
     ]
    },
    {
     "name": "stderr",
     "output_type": "stream",
     "text": [
      "c:\\Users\\q514907\\Anaconda3\\envs\\UdacityProject_2\\lib\\site-packages\\sklearn\\feature_extraction\\text.py:528: UserWarning: The parameter 'token_pattern' will not be used since 'tokenizer' is not None'\n",
      "  warnings.warn(\n"
     ]
    },
    {
     "name": "stdout",
     "output_type": "stream",
     "text": [
      "<class 'Exception'>\n",
      "Text '    ' replaced with empty string.\n"
     ]
    },
    {
     "name": "stderr",
     "output_type": "stream",
     "text": [
      "c:\\Users\\q514907\\Anaconda3\\envs\\UdacityProject_2\\lib\\site-packages\\sklearn\\feature_extraction\\text.py:528: UserWarning: The parameter 'token_pattern' will not be used since 'tokenizer' is not None'\n",
      "  warnings.warn(\n"
     ]
    },
    {
     "name": "stdout",
     "output_type": "stream",
     "text": [
      "<class 'Exception'>\n",
      "Text '    ' replaced with empty string.\n"
     ]
    },
    {
     "name": "stderr",
     "output_type": "stream",
     "text": [
      "c:\\Users\\q514907\\Anaconda3\\envs\\UdacityProject_2\\lib\\site-packages\\sklearn\\feature_extraction\\text.py:528: UserWarning: The parameter 'token_pattern' will not be used since 'tokenizer' is not None'\n",
      "  warnings.warn(\n"
     ]
    },
    {
     "name": "stdout",
     "output_type": "stream",
     "text": [
      "<class 'Exception'>\n",
      "Text '    ' replaced with empty string.\n"
     ]
    },
    {
     "name": "stderr",
     "output_type": "stream",
     "text": [
      "c:\\Users\\q514907\\Anaconda3\\envs\\UdacityProject_2\\lib\\site-packages\\sklearn\\feature_extraction\\text.py:528: UserWarning: The parameter 'token_pattern' will not be used since 'tokenizer' is not None'\n",
      "  warnings.warn(\n"
     ]
    },
    {
     "name": "stdout",
     "output_type": "stream",
     "text": [
      "<class 'Exception'>\n",
      "Text '    ' replaced with empty string.\n"
     ]
    },
    {
     "name": "stderr",
     "output_type": "stream",
     "text": [
      "c:\\Users\\q514907\\Anaconda3\\envs\\UdacityProject_2\\lib\\site-packages\\sklearn\\feature_extraction\\text.py:528: UserWarning: The parameter 'token_pattern' will not be used since 'tokenizer' is not None'\n",
      "  warnings.warn(\n"
     ]
    },
    {
     "name": "stdout",
     "output_type": "stream",
     "text": [
      "<class 'Exception'>\n",
      "Text '    ' replaced with empty string.\n"
     ]
    },
    {
     "name": "stderr",
     "output_type": "stream",
     "text": [
      "c:\\Users\\q514907\\Anaconda3\\envs\\UdacityProject_2\\lib\\site-packages\\sklearn\\feature_extraction\\text.py:528: UserWarning: The parameter 'token_pattern' will not be used since 'tokenizer' is not None'\n",
      "  warnings.warn(\n"
     ]
    },
    {
     "name": "stdout",
     "output_type": "stream",
     "text": [
      "<class 'Exception'>\n",
      "Text '    ' replaced with empty string.\n"
     ]
    },
    {
     "name": "stderr",
     "output_type": "stream",
     "text": [
      "c:\\Users\\q514907\\Anaconda3\\envs\\UdacityProject_2\\lib\\site-packages\\sklearn\\feature_extraction\\text.py:528: UserWarning: The parameter 'token_pattern' will not be used since 'tokenizer' is not None'\n",
      "  warnings.warn(\n"
     ]
    },
    {
     "name": "stdout",
     "output_type": "stream",
     "text": [
      "<class 'Exception'>\n",
      "Text '    ' replaced with empty string.\n"
     ]
    }
   ],
   "source": [
    "# train the model using X_dtm & y\n",
    "grid_search_model.fit(X_train, Y_train)\n",
    "# compute the testing accuracy\n",
    "prediction_grid_search_model = grid_search_model.predict(X_test)"
   ]
  },
  {
   "cell_type": "code",
   "execution_count": null,
   "metadata": {},
   "outputs": [
    {
     "name": "stdout",
     "output_type": "stream",
     "text": [
      "                        precision    recall  f1-score   support\n",
      "\n",
      "               related       0.89      0.95      0.92        43\n",
      "               request       0.81      0.91      0.86        33\n",
      "                 offer       0.00      0.00      0.00         0\n",
      "           aid_related       0.88      0.92      0.90        38\n",
      "          medical_help       0.00      0.00      0.00         9\n",
      "      medical_products       0.00      0.00      0.00         5\n",
      "     search_and_rescue       0.00      0.00      0.00         3\n",
      "              security       0.00      0.00      0.00         1\n",
      "              military       0.00      0.00      0.00         0\n",
      "                 water       1.00      0.78      0.88        18\n",
      "                  food       0.90      0.53      0.67        17\n",
      "               shelter       0.00      0.00      0.00         7\n",
      "              clothing       0.00      0.00      0.00         1\n",
      "                 money       0.00      0.00      0.00         2\n",
      "        missing_people       0.00      0.00      0.00         2\n",
      "              refugees       0.00      0.00      0.00         1\n",
      "                 death       0.00      0.00      0.00         3\n",
      "             other_aid       0.00      0.00      0.00        13\n",
      "infrastructure_related       0.00      0.00      0.00         5\n",
      "             transport       0.00      0.00      0.00         3\n",
      "             buildings       0.00      0.00      0.00         3\n",
      "           electricity       0.00      0.00      0.00         0\n",
      "                 tools       0.00      0.00      0.00         0\n",
      "             hospitals       0.00      0.00      0.00         1\n",
      "                 shops       0.00      0.00      0.00         1\n",
      "           aid_centers       0.00      0.00      0.00         0\n",
      "  other_infrastructure       0.00      0.00      0.00         3\n",
      "       weather_related       0.00      0.00      0.00        11\n",
      "                floods       0.00      0.00      0.00         3\n",
      "                 storm       0.00      0.00      0.00         3\n",
      "                  fire       0.00      0.00      0.00         1\n",
      "            earthquake       0.00      0.00      0.00         3\n",
      "                  cold       0.00      0.00      0.00         1\n",
      "         other_weather       0.00      0.00      0.00         0\n",
      "         direct_report       0.83      0.66      0.73        29\n",
      "\n",
      "             micro avg       0.87      0.56      0.68       263\n",
      "             macro avg       0.15      0.14      0.14       263\n",
      "          weighted avg       0.59      0.56      0.57       263\n",
      "           samples avg       0.76      0.53      0.59       263\n",
      "\n",
      "Hamming loss: 0.07828571428571429\n"
     ]
    },
    {
     "name": "stderr",
     "output_type": "stream",
     "text": [
      "c:\\Users\\q514907\\Anaconda3\\envs\\UdacityProject_2\\lib\\site-packages\\sklearn\\metrics\\_classification.py:1344: UndefinedMetricWarning: Precision and F-score are ill-defined and being set to 0.0 in labels with no predicted samples. Use `zero_division` parameter to control this behavior.\n",
      "  _warn_prf(average, modifier, msg_start, len(result))\n",
      "c:\\Users\\q514907\\Anaconda3\\envs\\UdacityProject_2\\lib\\site-packages\\sklearn\\metrics\\_classification.py:1344: UndefinedMetricWarning: Recall and F-score are ill-defined and being set to 0.0 in labels with no true samples. Use `zero_division` parameter to control this behavior.\n",
      "  _warn_prf(average, modifier, msg_start, len(result))\n",
      "c:\\Users\\q514907\\Anaconda3\\envs\\UdacityProject_2\\lib\\site-packages\\sklearn\\metrics\\_classification.py:1344: UndefinedMetricWarning: Precision and F-score are ill-defined and being set to 0.0 in samples with no predicted labels. Use `zero_division` parameter to control this behavior.\n",
      "  _warn_prf(average, modifier, msg_start, len(result))\n",
      "c:\\Users\\q514907\\Anaconda3\\envs\\UdacityProject_2\\lib\\site-packages\\sklearn\\metrics\\_classification.py:1344: UndefinedMetricWarning: Recall and F-score are ill-defined and being set to 0.0 in samples with no true labels. Use `zero_division` parameter to control this behavior.\n",
      "  _warn_prf(average, modifier, msg_start, len(result))\n"
     ]
    },
    {
     "data": {
      "text/html": [
       "<div>\n",
       "<style scoped>\n",
       "    .dataframe tbody tr th:only-of-type {\n",
       "        vertical-align: middle;\n",
       "    }\n",
       "\n",
       "    .dataframe tbody tr th {\n",
       "        vertical-align: top;\n",
       "    }\n",
       "\n",
       "    .dataframe thead th {\n",
       "        text-align: right;\n",
       "    }\n",
       "</style>\n",
       "<table border=\"1\" class=\"dataframe\">\n",
       "  <thead>\n",
       "    <tr style=\"text-align: right;\">\n",
       "      <th></th>\n",
       "      <th>mean_fit_time</th>\n",
       "      <th>std_fit_time</th>\n",
       "      <th>mean_score_time</th>\n",
       "      <th>std_score_time</th>\n",
       "      <th>param_clf__estimator</th>\n",
       "      <th>params</th>\n",
       "      <th>split0_test_score</th>\n",
       "      <th>split1_test_score</th>\n",
       "      <th>split2_test_score</th>\n",
       "      <th>split3_test_score</th>\n",
       "      <th>split4_test_score</th>\n",
       "      <th>mean_test_score</th>\n",
       "      <th>std_test_score</th>\n",
       "      <th>rank_test_score</th>\n",
       "    </tr>\n",
       "  </thead>\n",
       "  <tbody>\n",
       "    <tr>\n",
       "      <th>0</th>\n",
       "      <td>0.570004</td>\n",
       "      <td>0.056339</td>\n",
       "      <td>0.056583</td>\n",
       "      <td>0.069507</td>\n",
       "      <td>SGDClassifier()</td>\n",
       "      <td>{'clf__estimator': SGDClassifier()}</td>\n",
       "      <td>0.100000</td>\n",
       "      <td>NaN</td>\n",
       "      <td>NaN</td>\n",
       "      <td>0.033333</td>\n",
       "      <td>NaN</td>\n",
       "      <td>NaN</td>\n",
       "      <td>NaN</td>\n",
       "      <td>4</td>\n",
       "    </tr>\n",
       "    <tr>\n",
       "      <th>1</th>\n",
       "      <td>0.722552</td>\n",
       "      <td>0.204017</td>\n",
       "      <td>0.204860</td>\n",
       "      <td>0.093918</td>\n",
       "      <td>MultinomialNB()</td>\n",
       "      <td>{'clf__estimator': MultinomialNB()}</td>\n",
       "      <td>0.000000</td>\n",
       "      <td>0.066667</td>\n",
       "      <td>0.066667</td>\n",
       "      <td>0.000000</td>\n",
       "      <td>0.033333</td>\n",
       "      <td>0.033333</td>\n",
       "      <td>0.029814</td>\n",
       "      <td>3</td>\n",
       "    </tr>\n",
       "    <tr>\n",
       "      <th>2</th>\n",
       "      <td>5.986384</td>\n",
       "      <td>0.335549</td>\n",
       "      <td>0.498399</td>\n",
       "      <td>0.088969</td>\n",
       "      <td>RandomForestClassifier()</td>\n",
       "      <td>{'clf__estimator': RandomForestClassifier()}</td>\n",
       "      <td>0.066667</td>\n",
       "      <td>0.200000</td>\n",
       "      <td>0.200000</td>\n",
       "      <td>0.033333</td>\n",
       "      <td>0.133333</td>\n",
       "      <td>0.126667</td>\n",
       "      <td>0.067987</td>\n",
       "      <td>1</td>\n",
       "    </tr>\n",
       "    <tr>\n",
       "      <th>3</th>\n",
       "      <td>0.607298</td>\n",
       "      <td>0.044656</td>\n",
       "      <td>0.310610</td>\n",
       "      <td>0.045570</td>\n",
       "      <td>KNeighborsClassifier()</td>\n",
       "      <td>{'clf__estimator': KNeighborsClassifier()}</td>\n",
       "      <td>0.066667</td>\n",
       "      <td>0.066667</td>\n",
       "      <td>0.133333</td>\n",
       "      <td>0.033333</td>\n",
       "      <td>0.133333</td>\n",
       "      <td>0.086667</td>\n",
       "      <td>0.040000</td>\n",
       "      <td>2</td>\n",
       "    </tr>\n",
       "  </tbody>\n",
       "</table>\n",
       "</div>"
      ],
      "text/plain": [
       "   mean_fit_time  std_fit_time  mean_score_time  std_score_time  \\\n",
       "0       0.570004      0.056339         0.056583        0.069507   \n",
       "1       0.722552      0.204017         0.204860        0.093918   \n",
       "2       5.986384      0.335549         0.498399        0.088969   \n",
       "3       0.607298      0.044656         0.310610        0.045570   \n",
       "\n",
       "       param_clf__estimator                                        params  \\\n",
       "0           SGDClassifier()           {'clf__estimator': SGDClassifier()}   \n",
       "1           MultinomialNB()           {'clf__estimator': MultinomialNB()}   \n",
       "2  RandomForestClassifier()  {'clf__estimator': RandomForestClassifier()}   \n",
       "3    KNeighborsClassifier()    {'clf__estimator': KNeighborsClassifier()}   \n",
       "\n",
       "   split0_test_score  split1_test_score  split2_test_score  split3_test_score  \\\n",
       "0           0.100000                NaN                NaN           0.033333   \n",
       "1           0.000000           0.066667           0.066667           0.000000   \n",
       "2           0.066667           0.200000           0.200000           0.033333   \n",
       "3           0.066667           0.066667           0.133333           0.033333   \n",
       "\n",
       "   split4_test_score  mean_test_score  std_test_score  rank_test_score  \n",
       "0                NaN              NaN             NaN                4  \n",
       "1           0.033333         0.033333        0.029814                3  \n",
       "2           0.133333         0.126667        0.067987                1  \n",
       "3           0.133333         0.086667        0.040000                2  "
      ]
     },
     "execution_count": 131,
     "metadata": {},
     "output_type": "execute_result"
    }
   ],
   "source": [
    "print(classification_report(Y_test, prediction_grid_search_model, target_names=categories_colnames))\n",
    "print(f\"Hamming loss: {hamming_loss(Y_test, prediction_grid_search_model)}\")\n",
    "\n",
    "pd.DataFrame(grid_search_model.cv_results_)"
   ]
  },
  {
   "cell_type": "code",
   "execution_count": null,
   "metadata": {},
   "outputs": [],
   "source": [
    "stop_code"
   ]
  },
  {
   "cell_type": "code",
   "execution_count": null,
   "metadata": {},
   "outputs": [],
   "source": [
    "# parameters = {\n",
    "#     # 'clf__SGDClassifier__loss': [\"hinge\", \"log_loss\"]\n",
    "#     'clf__estimator': [SGDClassifier(), MultinomialNB()],\n",
    "#     # \"clf__estimator__loss\": [\"hinge\", \"log_loss\"]\n",
    "\n",
    "# }\n",
    "\n",
    "# grid_search_model = GridSearchCV(pipeline_modular, param_grid=parameters)"
   ]
  },
  {
   "cell_type": "code",
   "execution_count": null,
   "metadata": {},
   "outputs": [
    {
     "name": "stderr",
     "output_type": "stream",
     "text": [
      "c:\\Users\\q514907\\Anaconda3\\envs\\UdacityProject_2\\lib\\site-packages\\sklearn\\feature_extraction\\text.py:528: UserWarning: The parameter 'token_pattern' will not be used since 'tokenizer' is not None'\n",
      "  warnings.warn(\n",
      "c:\\Users\\q514907\\Anaconda3\\envs\\UdacityProject_2\\lib\\site-packages\\sklearn\\feature_extraction\\text.py:528: UserWarning: The parameter 'token_pattern' will not be used since 'tokenizer' is not None'\n",
      "  warnings.warn(\n",
      "c:\\Users\\q514907\\Anaconda3\\envs\\UdacityProject_2\\lib\\site-packages\\sklearn\\feature_extraction\\text.py:528: UserWarning: The parameter 'token_pattern' will not be used since 'tokenizer' is not None'\n",
      "  warnings.warn(\n",
      "c:\\Users\\q514907\\Anaconda3\\envs\\UdacityProject_2\\lib\\site-packages\\sklearn\\feature_extraction\\text.py:528: UserWarning: The parameter 'token_pattern' will not be used since 'tokenizer' is not None'\n",
      "  warnings.warn(\n",
      "c:\\Users\\q514907\\Anaconda3\\envs\\UdacityProject_2\\lib\\site-packages\\sklearn\\feature_extraction\\text.py:528: UserWarning: The parameter 'token_pattern' will not be used since 'tokenizer' is not None'\n",
      "  warnings.warn(\n",
      "c:\\Users\\q514907\\Anaconda3\\envs\\UdacityProject_2\\lib\\site-packages\\sklearn\\feature_extraction\\text.py:528: UserWarning: The parameter 'token_pattern' will not be used since 'tokenizer' is not None'\n",
      "  warnings.warn(\n",
      "c:\\Users\\q514907\\Anaconda3\\envs\\UdacityProject_2\\lib\\site-packages\\sklearn\\feature_extraction\\text.py:528: UserWarning: The parameter 'token_pattern' will not be used since 'tokenizer' is not None'\n",
      "  warnings.warn(\n",
      "c:\\Users\\q514907\\Anaconda3\\envs\\UdacityProject_2\\lib\\site-packages\\sklearn\\feature_extraction\\text.py:528: UserWarning: The parameter 'token_pattern' will not be used since 'tokenizer' is not None'\n",
      "  warnings.warn(\n",
      "c:\\Users\\q514907\\Anaconda3\\envs\\UdacityProject_2\\lib\\site-packages\\sklearn\\feature_extraction\\text.py:528: UserWarning: The parameter 'token_pattern' will not be used since 'tokenizer' is not None'\n",
      "  warnings.warn(\n",
      "c:\\Users\\q514907\\Anaconda3\\envs\\UdacityProject_2\\lib\\site-packages\\sklearn\\feature_extraction\\text.py:528: UserWarning: The parameter 'token_pattern' will not be used since 'tokenizer' is not None'\n",
      "  warnings.warn(\n",
      "c:\\Users\\q514907\\Anaconda3\\envs\\UdacityProject_2\\lib\\site-packages\\sklearn\\model_selection\\_validation.py:378: FitFailedWarning: \n",
      "3 fits failed out of a total of 10.\n",
      "The score on these train-test partitions for these parameters will be set to nan.\n",
      "If these failures are not expected, you can try to debug them by setting error_score='raise'.\n",
      "\n",
      "Below are more details about the failures:\n",
      "--------------------------------------------------------------------------------\n",
      "3 fits failed with the following error:\n",
      "Traceback (most recent call last):\n",
      "  File \"c:\\Users\\q514907\\Anaconda3\\envs\\UdacityProject_2\\lib\\site-packages\\sklearn\\model_selection\\_validation.py\", line 686, in _fit_and_score\n",
      "    estimator.fit(X_train, y_train, **fit_params)\n",
      "  File \"c:\\Users\\q514907\\Anaconda3\\envs\\UdacityProject_2\\lib\\site-packages\\sklearn\\pipeline.py\", line 406, in fit\n",
      "    self._final_estimator.fit(Xt, y, **fit_params_last_step)\n",
      "  File \"c:\\Users\\q514907\\Anaconda3\\envs\\UdacityProject_2\\lib\\site-packages\\sklearn\\multioutput.py\", line 451, in fit\n",
      "    super().fit(X, Y, sample_weight, **fit_params)\n",
      "  File \"c:\\Users\\q514907\\Anaconda3\\envs\\UdacityProject_2\\lib\\site-packages\\sklearn\\multioutput.py\", line 217, in fit\n",
      "    self.estimators_ = Parallel(n_jobs=self.n_jobs)(\n",
      "  File \"c:\\Users\\q514907\\Anaconda3\\envs\\UdacityProject_2\\lib\\site-packages\\joblib\\parallel.py\", line 1088, in __call__\n",
      "    while self.dispatch_one_batch(iterator):\n",
      "  File \"c:\\Users\\q514907\\Anaconda3\\envs\\UdacityProject_2\\lib\\site-packages\\joblib\\parallel.py\", line 901, in dispatch_one_batch\n",
      "    self._dispatch(tasks)\n",
      "  File \"c:\\Users\\q514907\\Anaconda3\\envs\\UdacityProject_2\\lib\\site-packages\\joblib\\parallel.py\", line 819, in _dispatch\n",
      "    job = self._backend.apply_async(batch, callback=cb)\n",
      "  File \"c:\\Users\\q514907\\Anaconda3\\envs\\UdacityProject_2\\lib\\site-packages\\joblib\\_parallel_backends.py\", line 208, in apply_async\n",
      "    result = ImmediateResult(func)\n",
      "  File \"c:\\Users\\q514907\\Anaconda3\\envs\\UdacityProject_2\\lib\\site-packages\\joblib\\_parallel_backends.py\", line 597, in __init__\n",
      "    self.results = batch()\n",
      "  File \"c:\\Users\\q514907\\Anaconda3\\envs\\UdacityProject_2\\lib\\site-packages\\joblib\\parallel.py\", line 288, in __call__\n",
      "    return [func(*args, **kwargs)\n",
      "  File \"c:\\Users\\q514907\\Anaconda3\\envs\\UdacityProject_2\\lib\\site-packages\\joblib\\parallel.py\", line 288, in <listcomp>\n",
      "    return [func(*args, **kwargs)\n",
      "  File \"c:\\Users\\q514907\\Anaconda3\\envs\\UdacityProject_2\\lib\\site-packages\\sklearn\\utils\\fixes.py\", line 117, in __call__\n",
      "    return self.function(*args, **kwargs)\n",
      "  File \"c:\\Users\\q514907\\Anaconda3\\envs\\UdacityProject_2\\lib\\site-packages\\sklearn\\multioutput.py\", line 50, in _fit_estimator\n",
      "    estimator.fit(X, y, **fit_params)\n",
      "  File \"c:\\Users\\q514907\\Anaconda3\\envs\\UdacityProject_2\\lib\\site-packages\\sklearn\\linear_model\\_stochastic_gradient.py\", line 896, in fit\n",
      "    return self._fit(\n",
      "  File \"c:\\Users\\q514907\\Anaconda3\\envs\\UdacityProject_2\\lib\\site-packages\\sklearn\\linear_model\\_stochastic_gradient.py\", line 685, in _fit\n",
      "    self._partial_fit(\n",
      "  File \"c:\\Users\\q514907\\Anaconda3\\envs\\UdacityProject_2\\lib\\site-packages\\sklearn\\linear_model\\_stochastic_gradient.py\", line 639, in _partial_fit\n",
      "    raise ValueError(\n",
      "ValueError: The number of classes has to be greater than one; got 1 class\n",
      "\n",
      "  warnings.warn(some_fits_failed_message, FitFailedWarning)\n",
      "c:\\Users\\q514907\\Anaconda3\\envs\\UdacityProject_2\\lib\\site-packages\\sklearn\\model_selection\\_search.py:953: UserWarning: One or more of the test scores are non-finite: [       nan 0.03333333]\n",
      "  warnings.warn(\n",
      "c:\\Users\\q514907\\Anaconda3\\envs\\UdacityProject_2\\lib\\site-packages\\sklearn\\feature_extraction\\text.py:528: UserWarning: The parameter 'token_pattern' will not be used since 'tokenizer' is not None'\n",
      "  warnings.warn(\n"
     ]
    }
   ],
   "source": [
    "# train the model using X_dtm & y\n",
    "grid_search_model.fit(X_train, Y_train)\n",
    "# compute the testing accuracy\n",
    "prediction_grid_search = grid_search_model.predict(X_test)"
   ]
  },
  {
   "cell_type": "code",
   "execution_count": null,
   "metadata": {},
   "outputs": [
    {
     "name": "stdout",
     "output_type": "stream",
     "text": [
      "                        precision    recall  f1-score   support\n",
      "\n",
      "               related       0.89      0.92      0.91       211\n",
      "               request       0.71      0.86      0.78       142\n",
      "                 offer       0.00      0.00      0.00         1\n",
      "           aid_related       0.77      0.77      0.77       161\n",
      "          medical_help       0.46      0.23      0.31        26\n",
      "      medical_products       0.54      0.41      0.47        17\n",
      "     search_and_rescue       0.14      0.11      0.12         9\n",
      "              security       0.00      0.00      0.00         7\n",
      "              military       0.00      0.00      0.00         1\n",
      "                 water       0.84      0.68      0.75        56\n",
      "                  food       0.84      0.89      0.86        72\n",
      "               shelter       0.62      0.60      0.61        30\n",
      "              clothing       1.00      0.33      0.50         9\n",
      "                 money       0.00      0.00      0.00         6\n",
      "        missing_people       0.00      0.00      0.00         2\n",
      "              refugees       0.00      0.00      0.00         8\n",
      "                 death       0.80      0.27      0.40        15\n",
      "             other_aid       0.44      0.39      0.42        61\n",
      "infrastructure_related       0.17      0.05      0.08        19\n",
      "             transport       0.00      0.00      0.00         9\n",
      "             buildings       0.86      0.29      0.43        21\n",
      "           electricity       0.00      0.00      0.00         2\n",
      "                 tools       0.00      0.00      0.00         2\n",
      "             hospitals       0.00      0.00      0.00         3\n",
      "                 shops       0.00      0.00      0.00         2\n",
      "           aid_centers       0.00      0.00      0.00         2\n",
      "  other_infrastructure       0.00      0.00      0.00        12\n",
      "       weather_related       0.43      0.20      0.27        30\n",
      "                floods       0.00      0.00      0.00         8\n",
      "                 storm       0.33      0.50      0.40         2\n",
      "                  fire       0.00      0.00      0.00         2\n",
      "            earthquake       0.83      0.45      0.59        11\n",
      "                  cold       1.00      0.20      0.33         5\n",
      "         other_weather       0.00      0.00      0.00         6\n",
      "         direct_report       0.70      0.80      0.75       140\n",
      "\n",
      "             micro avg       0.74      0.66      0.70      1110\n",
      "             macro avg       0.35      0.26      0.28      1110\n",
      "          weighted avg       0.68      0.66      0.66      1110\n",
      "           samples avg       0.65      0.61      0.57      1110\n",
      "\n",
      "Hamming loss: 0.07291428571428571\n"
     ]
    },
    {
     "name": "stderr",
     "output_type": "stream",
     "text": [
      "c:\\Users\\q514907\\Anaconda3\\envs\\UdacityProject_2\\lib\\site-packages\\sklearn\\metrics\\_classification.py:1344: UndefinedMetricWarning: Precision and F-score are ill-defined and being set to 0.0 in labels with no predicted samples. Use `zero_division` parameter to control this behavior.\n",
      "  _warn_prf(average, modifier, msg_start, len(result))\n",
      "c:\\Users\\q514907\\Anaconda3\\envs\\UdacityProject_2\\lib\\site-packages\\sklearn\\metrics\\_classification.py:1344: UndefinedMetricWarning: Precision and F-score are ill-defined and being set to 0.0 in samples with no predicted labels. Use `zero_division` parameter to control this behavior.\n",
      "  _warn_prf(average, modifier, msg_start, len(result))\n",
      "c:\\Users\\q514907\\Anaconda3\\envs\\UdacityProject_2\\lib\\site-packages\\sklearn\\metrics\\_classification.py:1344: UndefinedMetricWarning: Recall and F-score are ill-defined and being set to 0.0 in samples with no true labels. Use `zero_division` parameter to control this behavior.\n",
      "  _warn_prf(average, modifier, msg_start, len(result))\n"
     ]
    }
   ],
   "source": [
    "print(classification_report(Y_test, prediction_grid_search, target_names=categories_colnames))\n",
    "print(f\"Hamming loss: {hamming_loss(Y_test, prediction_grid_search)}\")"
   ]
  },
  {
   "cell_type": "code",
   "execution_count": null,
   "metadata": {},
   "outputs": [
    {
     "data": {
      "text/html": [
       "<div>\n",
       "<style scoped>\n",
       "    .dataframe tbody tr th:only-of-type {\n",
       "        vertical-align: middle;\n",
       "    }\n",
       "\n",
       "    .dataframe tbody tr th {\n",
       "        vertical-align: top;\n",
       "    }\n",
       "\n",
       "    .dataframe thead th {\n",
       "        text-align: right;\n",
       "    }\n",
       "</style>\n",
       "<table border=\"1\" class=\"dataframe\">\n",
       "  <thead>\n",
       "    <tr style=\"text-align: right;\">\n",
       "      <th></th>\n",
       "      <th>mean_fit_time</th>\n",
       "      <th>std_fit_time</th>\n",
       "      <th>mean_score_time</th>\n",
       "      <th>std_score_time</th>\n",
       "      <th>param_clf__estimator</th>\n",
       "      <th>params</th>\n",
       "      <th>split0_test_score</th>\n",
       "      <th>split1_test_score</th>\n",
       "      <th>split2_test_score</th>\n",
       "      <th>split3_test_score</th>\n",
       "      <th>split4_test_score</th>\n",
       "      <th>mean_test_score</th>\n",
       "      <th>std_test_score</th>\n",
       "      <th>rank_test_score</th>\n",
       "    </tr>\n",
       "  </thead>\n",
       "  <tbody>\n",
       "    <tr>\n",
       "      <th>0</th>\n",
       "      <td>2.917711</td>\n",
       "      <td>0.231106</td>\n",
       "      <td>0.691495</td>\n",
       "      <td>0.034281</td>\n",
       "      <td>SGDClassifier()</td>\n",
       "      <td>{'clf__estimator': SGDClassifier()}</td>\n",
       "      <td>0.166667</td>\n",
       "      <td>0.18</td>\n",
       "      <td>0.186667</td>\n",
       "      <td>0.18</td>\n",
       "      <td>0.153333</td>\n",
       "      <td>0.173333</td>\n",
       "      <td>0.011926</td>\n",
       "      <td>1</td>\n",
       "    </tr>\n",
       "    <tr>\n",
       "      <th>1</th>\n",
       "      <td>3.015823</td>\n",
       "      <td>0.211967</td>\n",
       "      <td>0.743383</td>\n",
       "      <td>0.034666</td>\n",
       "      <td>MultinomialNB()</td>\n",
       "      <td>{'clf__estimator': MultinomialNB()}</td>\n",
       "      <td>0.060000</td>\n",
       "      <td>0.04</td>\n",
       "      <td>0.060000</td>\n",
       "      <td>0.04</td>\n",
       "      <td>0.066667</td>\n",
       "      <td>0.053333</td>\n",
       "      <td>0.011155</td>\n",
       "      <td>2</td>\n",
       "    </tr>\n",
       "  </tbody>\n",
       "</table>\n",
       "</div>"
      ],
      "text/plain": [
       "   mean_fit_time  std_fit_time  mean_score_time  std_score_time  \\\n",
       "0       2.917711      0.231106         0.691495        0.034281   \n",
       "1       3.015823      0.211967         0.743383        0.034666   \n",
       "\n",
       "  param_clf__estimator                               params  \\\n",
       "0      SGDClassifier()  {'clf__estimator': SGDClassifier()}   \n",
       "1      MultinomialNB()  {'clf__estimator': MultinomialNB()}   \n",
       "\n",
       "   split0_test_score  split1_test_score  split2_test_score  split3_test_score  \\\n",
       "0           0.166667               0.18           0.186667               0.18   \n",
       "1           0.060000               0.04           0.060000               0.04   \n",
       "\n",
       "   split4_test_score  mean_test_score  std_test_score  rank_test_score  \n",
       "0           0.153333         0.173333        0.011926                1  \n",
       "1           0.066667         0.053333        0.011155                2  "
      ]
     },
     "execution_count": 87,
     "metadata": {},
     "output_type": "execute_result"
    }
   ],
   "source": [
    "pd.DataFrame(grid_search_model.cv_results_)"
   ]
  },
  {
   "cell_type": "code",
   "execution_count": null,
   "metadata": {},
   "outputs": [
    {
     "ename": "NameError",
     "evalue": "name 'stop_code' is not defined",
     "output_type": "error",
     "traceback": [
      "\u001b[1;31m---------------------------------------------------------------------------\u001b[0m",
      "\u001b[1;31mNameError\u001b[0m                                 Traceback (most recent call last)",
      "Cell \u001b[1;32mIn[75], line 1\u001b[0m\n\u001b[1;32m----> 1\u001b[0m stop_code\n",
      "\u001b[1;31mNameError\u001b[0m: name 'stop_code' is not defined"
     ]
    }
   ],
   "source": [
    "stop_code"
   ]
  },
  {
   "cell_type": "markdown",
   "metadata": {},
   "source": [
    "### 7. Test your model\n",
    "Show the accuracy, precision, and recall of the tuned model.  \n",
    "\n",
    "Since this project focuses on code quality, process, and  pipelines, there is no minimum performance metric needed to pass. However, make sure to fine tune your models for accuracy, precision and recall to make your project stand out - especially for your portfolio!"
   ]
  },
  {
   "cell_type": "code",
   "execution_count": null,
   "metadata": {},
   "outputs": [],
   "source": []
  },
  {
   "cell_type": "markdown",
   "metadata": {},
   "source": [
    "### 8. Try improving your model further. Here are a few ideas:\n",
    "* try other machine learning algorithms\n",
    "* add other features besides the TF-IDF"
   ]
  },
  {
   "cell_type": "code",
   "execution_count": null,
   "metadata": {},
   "outputs": [],
   "source": []
  },
  {
   "cell_type": "markdown",
   "metadata": {},
   "source": [
    "### 9. Export your model as a pickle file"
   ]
  },
  {
   "cell_type": "code",
   "execution_count": null,
   "metadata": {},
   "outputs": [],
   "source": [
    "filename_model = \"ML_model.sav\"\n",
    "\n",
    "file_model = open(filename_model, \"wb\")\n",
    "pickle.dump(pipeline_modular, file_model)\n",
    "file_model.close()"
   ]
  },
  {
   "cell_type": "code",
   "execution_count": null,
   "metadata": {},
   "outputs": [],
   "source": [
    "# import model\n",
    "file_model = open(filename_model, \"rb\")\n",
    "model_imported = pickle.load(file_model)\n",
    "file_model.close()"
   ]
  },
  {
   "cell_type": "code",
   "execution_count": null,
   "metadata": {},
   "outputs": [
    {
     "name": "stdout",
     "output_type": "stream",
     "text": [
      "                        precision    recall  f1-score   support\n",
      "\n",
      "               related       0.84      0.95      0.89      4912\n",
      "               request       0.78      0.57      0.66      1118\n",
      "                 offer       0.00      0.00      0.00        30\n",
      "           aid_related       0.75      0.68      0.71      2688\n",
      "          medical_help       0.66      0.20      0.31       516\n",
      "      medical_products       0.72      0.22      0.34       338\n",
      "     search_and_rescue       0.81      0.12      0.21       178\n",
      "              security       0.00      0.00      0.00       122\n",
      "              military       0.73      0.17      0.27       215\n",
      "                 water       0.74      0.65      0.69       404\n",
      "                  food       0.81      0.71      0.76       739\n",
      "               shelter       0.82      0.50      0.62       614\n",
      "              clothing       0.64      0.47      0.55        95\n",
      "                 money       0.57      0.06      0.11       129\n",
      "        missing_people       0.00      0.00      0.00        82\n",
      "              refugees       0.65      0.16      0.25       223\n",
      "                 death       0.70      0.44      0.54       294\n",
      "             other_aid       0.62      0.02      0.03       882\n",
      "infrastructure_related       0.00      0.00      0.00       442\n",
      "             transport       0.71      0.11      0.19       296\n",
      "             buildings       0.75      0.25      0.38       326\n",
      "           electricity       0.94      0.11      0.20       151\n",
      "                 tools       0.00      0.00      0.00        34\n",
      "             hospitals       0.00      0.00      0.00        66\n",
      "                 shops       0.00      0.00      0.00        30\n",
      "           aid_centers       0.00      0.00      0.00        77\n",
      "  other_infrastructure       0.00      0.00      0.00       308\n",
      "       weather_related       0.87      0.71      0.78      1837\n",
      "                floods       0.94      0.53      0.68       557\n",
      "                 storm       0.80      0.61      0.69       624\n",
      "                  fire       1.00      0.06      0.11        71\n",
      "            earthquake       0.88      0.80      0.84       614\n",
      "                  cold       0.74      0.24      0.36       120\n",
      "         other_weather       0.65      0.03      0.07       321\n",
      "         direct_report       0.74      0.44      0.55      1275\n",
      "\n",
      "             micro avg       0.81      0.58      0.67     20728\n",
      "             macro avg       0.57      0.28      0.34     20728\n",
      "          weighted avg       0.74      0.58      0.61     20728\n",
      "           samples avg       0.65      0.50      0.52     20728\n",
      "\n",
      "Hamming loss: 0.05099124020285846\n"
     ]
    },
    {
     "name": "stderr",
     "output_type": "stream",
     "text": [
      "c:\\Users\\q514907\\Anaconda3\\envs\\UdacityProject_2\\lib\\site-packages\\sklearn\\metrics\\_classification.py:1344: UndefinedMetricWarning: Precision and F-score are ill-defined and being set to 0.0 in labels with no predicted samples. Use `zero_division` parameter to control this behavior.\n",
      "  _warn_prf(average, modifier, msg_start, len(result))\n",
      "c:\\Users\\q514907\\Anaconda3\\envs\\UdacityProject_2\\lib\\site-packages\\sklearn\\metrics\\_classification.py:1344: UndefinedMetricWarning: Precision and F-score are ill-defined and being set to 0.0 in samples with no predicted labels. Use `zero_division` parameter to control this behavior.\n",
      "  _warn_prf(average, modifier, msg_start, len(result))\n",
      "c:\\Users\\q514907\\Anaconda3\\envs\\UdacityProject_2\\lib\\site-packages\\sklearn\\metrics\\_classification.py:1344: UndefinedMetricWarning: Recall and F-score are ill-defined and being set to 0.0 in samples with no true labels. Use `zero_division` parameter to control this behavior.\n",
      "  _warn_prf(average, modifier, msg_start, len(result))\n"
     ]
    }
   ],
   "source": [
    "prediction_loaded = model_imported.predict(X_test)\n",
    "\n",
    "print(classification_report(Y_test, prediction_loaded, target_names=categories_colnames))\n",
    "print(f\"Hamming loss: {hamming_loss(Y_test, prediction_loaded)}\")"
   ]
  },
  {
   "cell_type": "markdown",
   "metadata": {},
   "source": [
    "### 10. Use this notebook to complete `train.py`\n",
    "Use the template file attached in the Resources folder to write a script that runs the steps above to create a database and export a model based on a new dataset specified by the user."
   ]
  },
  {
   "cell_type": "code",
   "execution_count": null,
   "metadata": {},
   "outputs": [],
   "source": []
  },
  {
   "attachments": {},
   "cell_type": "markdown",
   "metadata": {},
   "source": [
    "# Old Code Pieces"
   ]
  },
  {
   "cell_type": "code",
   "execution_count": null,
   "metadata": {},
   "outputs": [],
   "source": [
    "stop_code  "
   ]
  },
  {
   "cell_type": "code",
   "execution_count": null,
   "metadata": {},
   "outputs": [],
   "source": [
    "\n",
    "pipeline_OvR = Pipeline([\n",
    "        ('vect', CountVectorizer(tokenizer=lemmatize_single)),\n",
    "#         ('tfidf', TfidfVectorizer(lowercase=False)),\n",
    "        ('tfidf', TfidfTransformer()),\n",
    "\n",
    "        ('clf', OneVsRestClassifier(RandomForestClassifier())),\n",
    "    ])\n",
    "\n",
    "# train the model using X_dtm & y\n",
    "pipeline_OvR.fit(X_train, Y_train)\n",
    "# compute the testing accuracy\n",
    "prediction_OvR = pipeline_OvR.predict(X_test)\n",
    "\n",
    "print(classification_report(Y_test, prediction_OvR))\n",
    "\n",
    "pipeline_NB = Pipeline([\n",
    "        ('vect', CountVectorizer(tokenizer=tokenize_single)),\n",
    "#         ('tfidf', TfidfVectorizer(lowercase=False)),\n",
    "        ('tfidf', TfidfTransformer()),\n",
    "\n",
    "        ('clf', MultiOutputClassifier(MultinomialNB(fit_prior=True, class_prior=None))),\n",
    "    ])\n",
    "\n",
    "# train the model using X_dtm & y\n",
    "pipeline_NB.fit(X_train, Y_train)\n",
    "# compute the testing accuracy\n",
    "prediction_NB = pipeline_NB.predict(X_test)\n",
    "\n",
    "print(classification_report(Y_test, prediction_NB, target_names=categories_colnames))\n",
    "# SVM\n",
    "from sklearn.linear_model import SGDClassifier\n",
    "from sklearn.svm import SVC\n",
    "from sklearn.linear_model import LogisticRegression\n",
    "\n",
    "pipeline_SVM = Pipeline([\n",
    "        ('vect', CountVectorizer(tokenizer=tokenize_single)),\n",
    "#         ('tfidf', TfidfVectorizer(lowercase=False)),\n",
    "        ('tfidf', TfidfTransformer()),\n",
    "\n",
    "        ('clf', MultiOutputClassifier(SGDClassifier())),\n",
    "    ])\n",
    "\n",
    "# train the model using X_dtm & y\n",
    "pipeline_SVM.fit(X_train, Y_train)\n",
    "# compute the testing accuracy\n",
    "prediction_SVM = pipeline_SVM.predict(X_test)\n",
    "\n",
    "print(classification_report(Y_test, prediction_SVM))\n",
    "hamming_loss(Y_test, prediction_SVM)\n",
    "# Test Multilayer Perceptron MLP\n",
    "from sklearn.neural_network import MLPClassifier\n",
    "\n",
    "pipeline = Pipeline([\n",
    "        ('vect', CountVectorizer(tokenizer=tokenize_single)),\n",
    "#         ('tfidf', TfidfVectorizer(lowercase=False)),\n",
    "        ('tfidf', TfidfTransformer()),\n",
    "\n",
    "        ('clf', MLPClassifier(random_state=1, max_iter=300)),\n",
    "    ])\n",
    "\n",
    "# train the model using X_dtm & y\n",
    "pipeline.fit(X_train, Y_train)\n",
    "# compute the testing accuracy\n",
    "prediction = pipeline.predict(X_test)"
   ]
  },
  {
   "cell_type": "code",
   "execution_count": null,
   "metadata": {},
   "outputs": [],
   "source": [
    "# # categories_colnames = [\"related\"] #, \"request\"]\n",
    "\n",
    "# # https://towardsdatascience.com/multi-label-text-classification-with-scikit-learn-30714b7819c5\n",
    "\n",
    "# pipeline = Pipeline([\n",
    "#         ('vect', CountVectorizer(tokenizer=tokenize_single)),\n",
    "# #         ('tfidf', TfidfVectorizer(lowercase=False)),\n",
    "#         ('tfidf', TfidfTransformer()),\n",
    "\n",
    "#         ('clf', OneVsRestClassifier(MultinomialNB(\n",
    "#             fit_prior=True, class_prior=None))),\n",
    "#     ])\n",
    "\n",
    "# model_dict = {}\n",
    "\n",
    "# for category in categories_colnames:\n",
    "#     print(f'... Processing {category}')\n",
    "#     # train the model using X_dtm & y\n",
    "#     pipeline.fit(X_train, Y_train[category])\n",
    "#     # compute the testing accuracy\n",
    "#     prediction = pipeline.predict(X_test)\n",
    "#     print(f'Test accuracy is {accuracy_score(Y_test[category], prediction)}')\n",
    "#     model_dict[category] = pipeline"
   ]
  }
 ],
 "metadata": {
  "kernelspec": {
   "display_name": "UdacityProject_2",
   "language": "python",
   "name": "python3"
  },
  "language_info": {
   "codemirror_mode": {
    "name": "ipython",
    "version": 3
   },
   "file_extension": ".py",
   "mimetype": "text/x-python",
   "name": "python",
   "nbconvert_exporter": "python",
   "pygments_lexer": "ipython3",
   "version": "3.10.8"
  },
  "vscode": {
   "interpreter": {
    "hash": "678b69c4d66602396912dfdc9121749e834caa328c804ef7a07b8e73a4e1d706"
   }
  }
 },
 "nbformat": 4,
 "nbformat_minor": 2
}
