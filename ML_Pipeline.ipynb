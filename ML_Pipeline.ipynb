{
 "cells": [
  {
   "cell_type": "markdown",
   "metadata": {},
   "source": [
    "# ML Pipeline Preparation\n",
    "Follow the instructions below to help you create your ML pipeline.\n",
    "### 1. Import libraries and load data from database.\n",
    "- Import Python libraries\n",
    "- Load dataset from database with [`read_sql_table`](https://pandas.pydata.org/pandas-docs/stable/generated/pandas.read_sql_table.html)\n",
    "- Define feature and target variables X and Y"
   ]
  },
  {
   "cell_type": "code",
   "execution_count": 23,
   "metadata": {},
   "outputs": [
    {
     "name": "stderr",
     "output_type": "stream",
     "text": [
      "[nltk_data] Error loading punkt: <urlopen error Tunnel connection\n",
      "[nltk_data]     failed: 501 Not Implemented>\n",
      "[nltk_data] Error loading stopwords: <urlopen error Tunnel connection\n",
      "[nltk_data]     failed: 501 Not Implemented>\n",
      "[nltk_data] Error loading wordnet: <urlopen error Tunnel connection\n",
      "[nltk_data]     failed: 501 Not Implemented>\n"
     ]
    }
   ],
   "source": [
    "# import libraries\n",
    "import pandas as pd\n",
    "import numpy as np\n",
    "from sqlalchemy import create_engine\n",
    "import pickle\n",
    "\n",
    "from nltk import word_tokenize, sent_tokenize\n",
    "from nltk.corpus import stopwords\n",
    "from nltk.corpus import wordnet as wn\n",
    "from nltk.stem import WordNetLemmatizer\n",
    "from nltk.stem import PorterStemmer\n",
    "\n",
    "import nltk\n",
    "nltk.download('punkt')\n",
    "nltk.download('stopwords')\n",
    "nltk.download('wordnet')\n",
    "\n",
    "import string\n",
    "string.punctuation\n",
    "\n",
    "from sklearn.metrics import classification_report\n",
    "from sklearn.multioutput import MultiOutputClassifier, MultiOutputRegressor\n",
    "\n"
   ]
  },
  {
   "cell_type": "code",
   "execution_count": 24,
   "metadata": {},
   "outputs": [
    {
     "data": {
      "text/html": [
       "<div>\n",
       "<style scoped>\n",
       "    .dataframe tbody tr th:only-of-type {\n",
       "        vertical-align: middle;\n",
       "    }\n",
       "\n",
       "    .dataframe tbody tr th {\n",
       "        vertical-align: top;\n",
       "    }\n",
       "\n",
       "    .dataframe thead th {\n",
       "        text-align: right;\n",
       "    }\n",
       "</style>\n",
       "<table border=\"1\" class=\"dataframe\">\n",
       "  <thead>\n",
       "    <tr style=\"text-align: right;\">\n",
       "      <th></th>\n",
       "      <th>id</th>\n",
       "      <th>message</th>\n",
       "      <th>original</th>\n",
       "      <th>genre</th>\n",
       "      <th>related</th>\n",
       "      <th>request</th>\n",
       "      <th>offer</th>\n",
       "      <th>aid_related</th>\n",
       "      <th>medical_help</th>\n",
       "      <th>medical_products</th>\n",
       "      <th>...</th>\n",
       "      <th>aid_centers</th>\n",
       "      <th>other_infrastructure</th>\n",
       "      <th>weather_related</th>\n",
       "      <th>floods</th>\n",
       "      <th>storm</th>\n",
       "      <th>fire</th>\n",
       "      <th>earthquake</th>\n",
       "      <th>cold</th>\n",
       "      <th>other_weather</th>\n",
       "      <th>direct_report</th>\n",
       "    </tr>\n",
       "  </thead>\n",
       "  <tbody>\n",
       "    <tr>\n",
       "      <th>0</th>\n",
       "      <td>2</td>\n",
       "      <td>Weather update - a cold front from Cuba that c...</td>\n",
       "      <td>Un front froid se retrouve sur Cuba ce matin. ...</td>\n",
       "      <td>direct</td>\n",
       "      <td>1</td>\n",
       "      <td>0</td>\n",
       "      <td>0</td>\n",
       "      <td>0</td>\n",
       "      <td>0</td>\n",
       "      <td>0</td>\n",
       "      <td>...</td>\n",
       "      <td>0</td>\n",
       "      <td>0</td>\n",
       "      <td>0</td>\n",
       "      <td>0</td>\n",
       "      <td>0</td>\n",
       "      <td>0</td>\n",
       "      <td>0</td>\n",
       "      <td>0</td>\n",
       "      <td>0</td>\n",
       "      <td>0</td>\n",
       "    </tr>\n",
       "    <tr>\n",
       "      <th>1</th>\n",
       "      <td>7</td>\n",
       "      <td>Is the Hurricane over or is it not over</td>\n",
       "      <td>Cyclone nan fini osinon li pa fini</td>\n",
       "      <td>direct</td>\n",
       "      <td>1</td>\n",
       "      <td>0</td>\n",
       "      <td>0</td>\n",
       "      <td>1</td>\n",
       "      <td>0</td>\n",
       "      <td>0</td>\n",
       "      <td>...</td>\n",
       "      <td>0</td>\n",
       "      <td>0</td>\n",
       "      <td>1</td>\n",
       "      <td>0</td>\n",
       "      <td>1</td>\n",
       "      <td>0</td>\n",
       "      <td>0</td>\n",
       "      <td>0</td>\n",
       "      <td>0</td>\n",
       "      <td>0</td>\n",
       "    </tr>\n",
       "    <tr>\n",
       "      <th>2</th>\n",
       "      <td>8</td>\n",
       "      <td>Looking for someone but no name</td>\n",
       "      <td>Patnm, di Maryani relem pou li banm nouvel li ...</td>\n",
       "      <td>direct</td>\n",
       "      <td>1</td>\n",
       "      <td>0</td>\n",
       "      <td>0</td>\n",
       "      <td>0</td>\n",
       "      <td>0</td>\n",
       "      <td>0</td>\n",
       "      <td>...</td>\n",
       "      <td>0</td>\n",
       "      <td>0</td>\n",
       "      <td>0</td>\n",
       "      <td>0</td>\n",
       "      <td>0</td>\n",
       "      <td>0</td>\n",
       "      <td>0</td>\n",
       "      <td>0</td>\n",
       "      <td>0</td>\n",
       "      <td>0</td>\n",
       "    </tr>\n",
       "    <tr>\n",
       "      <th>3</th>\n",
       "      <td>9</td>\n",
       "      <td>UN reports Leogane 80-90 destroyed. Only Hospi...</td>\n",
       "      <td>UN reports Leogane 80-90 destroyed. Only Hospi...</td>\n",
       "      <td>direct</td>\n",
       "      <td>1</td>\n",
       "      <td>1</td>\n",
       "      <td>0</td>\n",
       "      <td>1</td>\n",
       "      <td>0</td>\n",
       "      <td>1</td>\n",
       "      <td>...</td>\n",
       "      <td>0</td>\n",
       "      <td>0</td>\n",
       "      <td>0</td>\n",
       "      <td>0</td>\n",
       "      <td>0</td>\n",
       "      <td>0</td>\n",
       "      <td>0</td>\n",
       "      <td>0</td>\n",
       "      <td>0</td>\n",
       "      <td>0</td>\n",
       "    </tr>\n",
       "    <tr>\n",
       "      <th>4</th>\n",
       "      <td>12</td>\n",
       "      <td>says: west side of Haiti, rest of the country ...</td>\n",
       "      <td>facade ouest d Haiti et le reste du pays aujou...</td>\n",
       "      <td>direct</td>\n",
       "      <td>1</td>\n",
       "      <td>0</td>\n",
       "      <td>0</td>\n",
       "      <td>0</td>\n",
       "      <td>0</td>\n",
       "      <td>0</td>\n",
       "      <td>...</td>\n",
       "      <td>0</td>\n",
       "      <td>0</td>\n",
       "      <td>0</td>\n",
       "      <td>0</td>\n",
       "      <td>0</td>\n",
       "      <td>0</td>\n",
       "      <td>0</td>\n",
       "      <td>0</td>\n",
       "      <td>0</td>\n",
       "      <td>0</td>\n",
       "    </tr>\n",
       "  </tbody>\n",
       "</table>\n",
       "<p>5 rows × 39 columns</p>\n",
       "</div>"
      ],
      "text/plain": [
       "   id                                            message  \\\n",
       "0   2  Weather update - a cold front from Cuba that c...   \n",
       "1   7            Is the Hurricane over or is it not over   \n",
       "2   8                    Looking for someone but no name   \n",
       "3   9  UN reports Leogane 80-90 destroyed. Only Hospi...   \n",
       "4  12  says: west side of Haiti, rest of the country ...   \n",
       "\n",
       "                                            original   genre  related  \\\n",
       "0  Un front froid se retrouve sur Cuba ce matin. ...  direct        1   \n",
       "1                 Cyclone nan fini osinon li pa fini  direct        1   \n",
       "2  Patnm, di Maryani relem pou li banm nouvel li ...  direct        1   \n",
       "3  UN reports Leogane 80-90 destroyed. Only Hospi...  direct        1   \n",
       "4  facade ouest d Haiti et le reste du pays aujou...  direct        1   \n",
       "\n",
       "   request  offer  aid_related  medical_help  medical_products  ...  \\\n",
       "0        0      0            0             0                 0  ...   \n",
       "1        0      0            1             0                 0  ...   \n",
       "2        0      0            0             0                 0  ...   \n",
       "3        1      0            1             0                 1  ...   \n",
       "4        0      0            0             0                 0  ...   \n",
       "\n",
       "   aid_centers  other_infrastructure  weather_related  floods  storm  fire  \\\n",
       "0            0                     0                0       0      0     0   \n",
       "1            0                     0                1       0      1     0   \n",
       "2            0                     0                0       0      0     0   \n",
       "3            0                     0                0       0      0     0   \n",
       "4            0                     0                0       0      0     0   \n",
       "\n",
       "   earthquake  cold  other_weather  direct_report  \n",
       "0           0     0              0              0  \n",
       "1           0     0              0              0  \n",
       "2           0     0              0              0  \n",
       "3           0     0              0              0  \n",
       "4           0     0              0              0  \n",
       "\n",
       "[5 rows x 39 columns]"
      ]
     },
     "execution_count": 24,
     "metadata": {},
     "output_type": "execute_result"
    }
   ],
   "source": [
    "# load data from database\n",
    "engine = create_engine('sqlite:///UdacityDisasterResponse.db')\n",
    "df = pd.read_sql_table(\"Messages_Categories\", con=engine)\n",
    "\n",
    "# df = df[:1000]\n",
    "\n",
    "# df = pd.read_sql_table(\"Messages_Categories\", con=\"sqlite:///DisasterResponse.db\")\n",
    "X = df[\"message\"]\n",
    "Y = df.iloc[:,4:].astype(\"int\")\n",
    "\n",
    "df.head(5)"
   ]
  },
  {
   "cell_type": "markdown",
   "metadata": {},
   "source": [
    "### 2. Write a tokenization function to process your text data"
   ]
  },
  {
   "cell_type": "code",
   "execution_count": 25,
   "metadata": {},
   "outputs": [],
   "source": [
    "def tokenize(text):\n",
    "    messages_tokenized = []\n",
    "    \n",
    "    for index, message in enumerate(text):\n",
    "        message = message.lower()\n",
    "        \n",
    "        # Remove punctuation\n",
    "        # https://stackoverflow.com/questions/265960/best-way-to-strip-punctuation-from-a-string\n",
    "        message = message.translate(str.maketrans('', '', string.punctuation))\n",
    "        \n",
    "        # Tokenize into sentences and then words\n",
    "        sentence_list = sent_tokenize(message)\n",
    "        \n",
    "        try:\n",
    "            words_tokenized = [word_tokenize(sentence) for sentence in sentence_list][0]\n",
    "        except:\n",
    "            words_tokenized = message\n",
    "#             print(Exception)\n",
    "            print(f\"Message {message} at index {index} caused an error. Message not tokenzied.\")\n",
    "            \n",
    "\n",
    "        # Remove stopwords\n",
    "        words_tokenized = [w for w in words_tokenized if w not in stopwords.words(\"english\")]\n",
    "        \n",
    "        messages_tokenized.append(words_tokenized)\n",
    "        \n",
    "    return messages_tokenized\n"
   ]
  },
  {
   "cell_type": "code",
   "execution_count": 26,
   "metadata": {},
   "outputs": [],
   "source": [
    "def tokenize_single(text):\n",
    "    \"\"\"\n",
    "    Tokenize text into sentences and then single words. Stopwords are also removed.\n",
    "    \"\"\"\n",
    "    \n",
    "    message = text.lower()\n",
    "    \n",
    "    # Remove punctuation\n",
    "    # https://stackoverflow.com/questions/265960/best-way-to-strip-punctuation-from-a-string\n",
    "    message = message.translate(str.maketrans('', '', string.punctuation))\n",
    "        \n",
    "    # Tokenize into sentences and then words\n",
    "    sentence_list = sent_tokenize(message)\n",
    "        \n",
    "    try:\n",
    "        words_tokenized = [word_tokenize(sentence) for sentence in sentence_list][0]\n",
    "    except:\n",
    "        words_tokenized = [\"\"]\n",
    "        print(Exception)\n",
    "        print(f\"Text '{text}' replaced with empty string.\")\n",
    "\n",
    "    # Remove stopwords\n",
    "    words_tokenized = [w for w in words_tokenized if w not in stopwords.words(\"english\")]\n",
    "    \n",
    "    \n",
    "    return words_tokenized\n"
   ]
  },
  {
   "cell_type": "code",
   "execution_count": 27,
   "metadata": {},
   "outputs": [],
   "source": [
    "def lemmatize(text):\n",
    "    \"\"\"\n",
    "    This function takes a series of text pieces, tokenizes by words via the tokenize() function and then lemmatizes each token.\n",
    "    The output is a list of lemmatized tokens per message.\n",
    "    \"\"\"\n",
    "    # tokenize text\n",
    "    messages_tokenized = tokenize(text)\n",
    "    \n",
    "    # initiate lemmatizer\n",
    "    lemmatizer = WordNetLemmatizer()\n",
    "    \n",
    "    messages_lemmatized = []\n",
    "    \n",
    "    for message in messages_tokenized:\n",
    "        try:\n",
    "            words_lemmatized = [lemmatizer.lemmatize(token) for token in message]\n",
    "            messages_lemmatized.append(words_lemmatized)\n",
    "            max_index = messages_tokenized.index(message)\n",
    "        except:\n",
    "            print(f\"Message at index {max_index + 1} caused an error. Message not lemmatized.\")\n",
    "            \n",
    "\n",
    "    return messages_lemmatized"
   ]
  },
  {
   "cell_type": "code",
   "execution_count": 28,
   "metadata": {},
   "outputs": [],
   "source": [
    "def lemmatize_single(text):\n",
    "    \"\"\"\n",
    "    This function takes a piece of text, tokenizes by words via the tokenize() function and then lemmatizes each token.\n",
    "    The output is a list of lemmatized tokens per corpus.\n",
    "    \"\"\"\n",
    "    # tokenize text\n",
    "    message_tokenized = tokenize_single(text)\n",
    "    \n",
    "    # initiate lemmatizer\n",
    "    lemmatizer = WordNetLemmatizer()\n",
    "    words_lemmatized = [lemmatizer.lemmatize(token) for token in message_tokenized]\n",
    "    \n",
    "    # Apply porter stemmer\n",
    "    ps = PorterStemmer()\n",
    "    words_stemmed = [ps.stem(word) for word in words_lemmatized]\n",
    "    \n",
    "    return words_stemmed"
   ]
  },
  {
   "cell_type": "markdown",
   "metadata": {},
   "source": [
    "### 3. Build a machine learning pipeline\n",
    "This machine pipeline should take in the `message` column as input and output classification results on the other 36 categories in the dataset. You may find the [MultiOutputClassifier](http://scikit-learn.org/stable/modules/generated/sklearn.multioutput.MultiOutputClassifier.html) helpful for predicting multiple target variables."
   ]
  },
  {
   "cell_type": "code",
   "execution_count": 29,
   "metadata": {},
   "outputs": [],
   "source": [
    "from sklearn.pipeline import Pipeline\n",
    "# from sklearn.metrics import confusion_matrix\n",
    "from sklearn.model_selection import train_test_split\n",
    "from sklearn.ensemble import RandomForestClassifier\n",
    "from sklearn.feature_extraction.text import CountVectorizer, TfidfTransformer\n",
    "from sklearn.metrics import hamming_loss\n",
    "\n",
    "from sklearn.feature_extraction.text import TfidfVectorizer\n",
    "from sklearn.multiclass import OneVsRestClassifier\n",
    "from sklearn.naive_bayes import MultinomialNB\n",
    "from sklearn.metrics import accuracy_score\n",
    "from sklearn.multioutput import MultiOutputClassifier, MultiOutputRegressor\n",
    "from sklearn.metrics import classification_report\n",
    "\n",
    "from sklearn.linear_model import SGDClassifier\n",
    "from sklearn.svm import SVC\n",
    "from sklearn.linear_model import LogisticRegression\n",
    "\n",
    "from sklearn.neural_network import MLPClassifier\n",
    "\n"
   ]
  },
  {
   "cell_type": "code",
   "execution_count": 30,
   "metadata": {},
   "outputs": [
    {
     "name": "stdout",
     "output_type": "stream",
     "text": [
      "Done.\n"
     ]
    }
   ],
   "source": [
    "Y.sum(axis=1)\n",
    "categories_colnames = list(Y.columns)\n",
    "categories_colnames\n",
    "\n",
    "X_subset = X[:2]\n",
    "Y_subset = Y.head(2)\n",
    "\n",
    "X_train, X_test, Y_train, Y_test = train_test_split(X, Y)\n",
    "# X_train, X_test, Y_train, Y_test = train_test_split(X_subset, Y_subset)\n",
    "\n",
    "# Y_train[\"request\"]\n",
    "\n",
    "print(\"Done.\")"
   ]
  },
  {
   "cell_type": "code",
   "execution_count": 31,
   "metadata": {
    "scrolled": true
   },
   "outputs": [],
   "source": [
    "# # categories_colnames = [\"related\"] #, \"request\"]\n",
    "\n",
    "# # https://towardsdatascience.com/multi-label-text-classification-with-scikit-learn-30714b7819c5\n",
    "\n",
    "# pipeline = Pipeline([\n",
    "#         ('vect', CountVectorizer(tokenizer=tokenize_single)),\n",
    "# #         ('tfidf', TfidfVectorizer(lowercase=False)),\n",
    "#         ('tfidf', TfidfTransformer()),\n",
    "\n",
    "#         ('clf', OneVsRestClassifier(MultinomialNB(\n",
    "#             fit_prior=True, class_prior=None))),\n",
    "#     ])\n",
    "\n",
    "# model_dict = {}\n",
    "\n",
    "# for category in categories_colnames:\n",
    "#     print(f'... Processing {category}')\n",
    "#     # train the model using X_dtm & y\n",
    "#     pipeline.fit(X_train, Y_train[category])\n",
    "#     # compute the testing accuracy\n",
    "#     prediction = pipeline.predict(X_test)\n",
    "#     print(f'Test accuracy is {accuracy_score(Y_test[category], prediction)}')\n",
    "#     model_dict[category] = pipeline"
   ]
  },
  {
   "cell_type": "code",
   "execution_count": 32,
   "metadata": {},
   "outputs": [],
   "source": [
    "# print(classification_report(Y_test[\"related\"], prediction))\n",
    "# print(classification_report(Y_test[\"related\"], model_dict[\"related\"].predict(X_test)))\n",
    "\n"
   ]
  },
  {
   "cell_type": "markdown",
   "metadata": {},
   "source": [
    "# Test with MultiOutputClassifier()"
   ]
  },
  {
   "cell_type": "code",
   "execution_count": 33,
   "metadata": {},
   "outputs": [
    {
     "name": "stderr",
     "output_type": "stream",
     "text": [
      "c:\\Users\\q514907\\Anaconda3\\envs\\UdacityProject_2\\lib\\site-packages\\sklearn\\feature_extraction\\text.py:528: UserWarning: The parameter 'token_pattern' will not be used since 'tokenizer' is not None'\n",
      "  warnings.warn(\n"
     ]
    },
    {
     "name": "stdout",
     "output_type": "stream",
     "text": [
      "<class 'Exception'>\n",
      "Text '    ' replaced with empty string.\n"
     ]
    }
   ],
   "source": [
    "pipeline_modular = Pipeline([\n",
    "        ('vect', CountVectorizer(tokenizer=lemmatize_single)),\n",
    "#         ('tfidf', TfidfVectorizer(lowercase=False)),\n",
    "        ('tfidf', TfidfTransformer()),\n",
    "\n",
    "        # ('clf', MultiOutputClassifier(RandomForestClassifier())),\n",
    "        # ('clf', MultiOutputClassifier(MultinomialNB(fit_prior=True, class_prior=None))),\n",
    "        ('clf', MultiOutputClassifier(SGDClassifier())),\n",
    "        # ('clf', MLPClassifier(random_state=1, max_iter=300)),\n",
    "\n",
    "\n",
    "\n",
    "    ])\n",
    "\n",
    "# train the model using X_dtm & y\n",
    "pipeline_modular.fit(X_train, Y_train)\n",
    "# compute the testing accuracy\n",
    "prediction_modular = pipeline_modular.predict(X_test)"
   ]
  },
  {
   "cell_type": "code",
   "execution_count": 34,
   "metadata": {},
   "outputs": [
    {
     "name": "stdout",
     "output_type": "stream",
     "text": [
      "                        precision    recall  f1-score   support\n",
      "\n",
      "               related       0.84      0.95      0.89      4912\n",
      "               request       0.78      0.57      0.66      1118\n",
      "                 offer       0.00      0.00      0.00        30\n",
      "           aid_related       0.75      0.68      0.71      2688\n",
      "          medical_help       0.66      0.20      0.31       516\n",
      "      medical_products       0.72      0.22      0.34       338\n",
      "     search_and_rescue       0.81      0.12      0.21       178\n",
      "              security       0.00      0.00      0.00       122\n",
      "              military       0.73      0.17      0.27       215\n",
      "                 water       0.74      0.65      0.69       404\n",
      "                  food       0.81      0.71      0.76       739\n",
      "               shelter       0.82      0.50      0.62       614\n",
      "              clothing       0.64      0.47      0.55        95\n",
      "                 money       0.57      0.06      0.11       129\n",
      "        missing_people       0.00      0.00      0.00        82\n",
      "              refugees       0.65      0.16      0.25       223\n",
      "                 death       0.70      0.44      0.54       294\n",
      "             other_aid       0.62      0.02      0.03       882\n",
      "infrastructure_related       0.00      0.00      0.00       442\n",
      "             transport       0.71      0.11      0.19       296\n",
      "             buildings       0.75      0.25      0.38       326\n",
      "           electricity       0.94      0.11      0.20       151\n",
      "                 tools       0.00      0.00      0.00        34\n",
      "             hospitals       0.00      0.00      0.00        66\n",
      "                 shops       0.00      0.00      0.00        30\n",
      "           aid_centers       0.00      0.00      0.00        77\n",
      "  other_infrastructure       0.00      0.00      0.00       308\n",
      "       weather_related       0.87      0.71      0.78      1837\n",
      "                floods       0.94      0.53      0.68       557\n",
      "                 storm       0.80      0.61      0.69       624\n",
      "                  fire       1.00      0.06      0.11        71\n",
      "            earthquake       0.88      0.80      0.84       614\n",
      "                  cold       0.74      0.24      0.36       120\n",
      "         other_weather       0.65      0.03      0.07       321\n",
      "         direct_report       0.74      0.44      0.55      1275\n",
      "\n",
      "             micro avg       0.81      0.58      0.67     20728\n",
      "             macro avg       0.57      0.28      0.34     20728\n",
      "          weighted avg       0.74      0.58      0.61     20728\n",
      "           samples avg       0.65      0.50      0.52     20728\n",
      "\n",
      "Hamming loss: 0.05099124020285846\n"
     ]
    },
    {
     "name": "stderr",
     "output_type": "stream",
     "text": [
      "c:\\Users\\q514907\\Anaconda3\\envs\\UdacityProject_2\\lib\\site-packages\\sklearn\\metrics\\_classification.py:1344: UndefinedMetricWarning: Precision and F-score are ill-defined and being set to 0.0 in labels with no predicted samples. Use `zero_division` parameter to control this behavior.\n",
      "  _warn_prf(average, modifier, msg_start, len(result))\n",
      "c:\\Users\\q514907\\Anaconda3\\envs\\UdacityProject_2\\lib\\site-packages\\sklearn\\metrics\\_classification.py:1344: UndefinedMetricWarning: Precision and F-score are ill-defined and being set to 0.0 in samples with no predicted labels. Use `zero_division` parameter to control this behavior.\n",
      "  _warn_prf(average, modifier, msg_start, len(result))\n",
      "c:\\Users\\q514907\\Anaconda3\\envs\\UdacityProject_2\\lib\\site-packages\\sklearn\\metrics\\_classification.py:1344: UndefinedMetricWarning: Recall and F-score are ill-defined and being set to 0.0 in samples with no true labels. Use `zero_division` parameter to control this behavior.\n",
      "  _warn_prf(average, modifier, msg_start, len(result))\n"
     ]
    }
   ],
   "source": [
    "print(classification_report(Y_test, prediction_modular, target_names=categories_colnames))\n",
    "print(f\"Hamming loss: {hamming_loss(Y_test, prediction_modular)}\")"
   ]
  },
  {
   "cell_type": "markdown",
   "metadata": {},
   "source": [
    "### 4. Train pipeline\n",
    "- Split data into train and test sets\n",
    "- Train pipeline"
   ]
  },
  {
   "cell_type": "code",
   "execution_count": null,
   "metadata": {},
   "outputs": [],
   "source": [
    "print(\"Test\")"
   ]
  },
  {
   "cell_type": "markdown",
   "metadata": {},
   "source": [
    "### 5. Test your model\n",
    "Report the f1 score, precision and recall for each output category of the dataset. You can do this by iterating through the columns and calling sklearn's `classification_report` on each."
   ]
  },
  {
   "cell_type": "code",
   "execution_count": null,
   "metadata": {},
   "outputs": [],
   "source": []
  },
  {
   "cell_type": "markdown",
   "metadata": {},
   "source": [
    "### 6. Improve your model\n",
    "Use grid search to find better parameters. "
   ]
  },
  {
   "cell_type": "code",
   "execution_count": null,
   "metadata": {},
   "outputs": [],
   "source": [
    "parameters = 1\n",
    "\n",
    "cv = 1"
   ]
  },
  {
   "cell_type": "markdown",
   "metadata": {},
   "source": [
    "### 7. Test your model\n",
    "Show the accuracy, precision, and recall of the tuned model.  \n",
    "\n",
    "Since this project focuses on code quality, process, and  pipelines, there is no minimum performance metric needed to pass. However, make sure to fine tune your models for accuracy, precision and recall to make your project stand out - especially for your portfolio!"
   ]
  },
  {
   "cell_type": "code",
   "execution_count": null,
   "metadata": {},
   "outputs": [],
   "source": []
  },
  {
   "cell_type": "markdown",
   "metadata": {},
   "source": [
    "### 8. Try improving your model further. Here are a few ideas:\n",
    "* try other machine learning algorithms\n",
    "* add other features besides the TF-IDF"
   ]
  },
  {
   "cell_type": "code",
   "execution_count": null,
   "metadata": {},
   "outputs": [],
   "source": []
  },
  {
   "cell_type": "markdown",
   "metadata": {},
   "source": [
    "### 9. Export your model as a pickle file"
   ]
  },
  {
   "cell_type": "code",
   "execution_count": 54,
   "metadata": {},
   "outputs": [],
   "source": [
    "filename_model = \"ML_model.sav\"\n",
    "\n",
    "file_model = open(filename_model, \"wb\")\n",
    "pickle.dump(pipeline_modular, file_model)\n",
    "file_model.close()"
   ]
  },
  {
   "cell_type": "code",
   "execution_count": 56,
   "metadata": {},
   "outputs": [],
   "source": [
    "# import model\n",
    "file_model = open(filename_model, \"rb\")\n",
    "model_imported = pickle.load(file_model)\n",
    "file_model.close()"
   ]
  },
  {
   "cell_type": "code",
   "execution_count": 57,
   "metadata": {},
   "outputs": [],
   "source": [
    "prediction_loaded = model_imported.predict(X_test)\n",
    "\n",
    "print(classification_report(Y_test, prediction_loaded, target_names=categories_colnames))\n",
    "print(f\"Hamming loss: {hamming_loss(Y_test, prediction_loaded)}\")"
   ]
  },
  {
   "cell_type": "markdown",
   "metadata": {},
   "source": [
    "### 10. Use this notebook to complete `train.py`\n",
    "Use the template file attached in the Resources folder to write a script that runs the steps above to create a database and export a model based on a new dataset specified by the user."
   ]
  },
  {
   "cell_type": "code",
   "execution_count": null,
   "metadata": {},
   "outputs": [],
   "source": []
  },
  {
   "attachments": {},
   "cell_type": "markdown",
   "metadata": {},
   "source": [
    "# Old Code Pieces"
   ]
  },
  {
   "cell_type": "code",
   "execution_count": null,
   "metadata": {},
   "outputs": [],
   "source": [
    "stop_code  "
   ]
  },
  {
   "cell_type": "code",
   "execution_count": null,
   "metadata": {},
   "outputs": [],
   "source": [
    "\n",
    "pipeline_OvR = Pipeline([\n",
    "        ('vect', CountVectorizer(tokenizer=lemmatize_single)),\n",
    "#         ('tfidf', TfidfVectorizer(lowercase=False)),\n",
    "        ('tfidf', TfidfTransformer()),\n",
    "\n",
    "        ('clf', OneVsRestClassifier(RandomForestClassifier())),\n",
    "    ])\n",
    "\n",
    "# train the model using X_dtm & y\n",
    "pipeline_OvR.fit(X_train, Y_train)\n",
    "# compute the testing accuracy\n",
    "prediction_OvR = pipeline_OvR.predict(X_test)\n",
    "\n",
    "print(classification_report(Y_test, prediction_OvR))\n",
    "\n",
    "pipeline_NB = Pipeline([\n",
    "        ('vect', CountVectorizer(tokenizer=tokenize_single)),\n",
    "#         ('tfidf', TfidfVectorizer(lowercase=False)),\n",
    "        ('tfidf', TfidfTransformer()),\n",
    "\n",
    "        ('clf', MultiOutputClassifier(MultinomialNB(fit_prior=True, class_prior=None))),\n",
    "    ])\n",
    "\n",
    "# train the model using X_dtm & y\n",
    "pipeline_NB.fit(X_train, Y_train)\n",
    "# compute the testing accuracy\n",
    "prediction_NB = pipeline_NB.predict(X_test)\n",
    "\n",
    "print(classification_report(Y_test, prediction_NB, target_names=categories_colnames))\n",
    "# SVM\n",
    "from sklearn.linear_model import SGDClassifier\n",
    "from sklearn.svm import SVC\n",
    "from sklearn.linear_model import LogisticRegression\n",
    "\n",
    "pipeline_SVM = Pipeline([\n",
    "        ('vect', CountVectorizer(tokenizer=tokenize_single)),\n",
    "#         ('tfidf', TfidfVectorizer(lowercase=False)),\n",
    "        ('tfidf', TfidfTransformer()),\n",
    "\n",
    "        ('clf', MultiOutputClassifier(SGDClassifier())),\n",
    "    ])\n",
    "\n",
    "# train the model using X_dtm & y\n",
    "pipeline_SVM.fit(X_train, Y_train)\n",
    "# compute the testing accuracy\n",
    "prediction_SVM = pipeline_SVM.predict(X_test)\n",
    "\n",
    "print(classification_report(Y_test, prediction_SVM))\n",
    "hamming_loss(Y_test, prediction_SVM)\n",
    "# Test Multilayer Perceptron MLP\n",
    "from sklearn.neural_network import MLPClassifier\n",
    "\n",
    "pipeline = Pipeline([\n",
    "        ('vect', CountVectorizer(tokenizer=tokenize_single)),\n",
    "#         ('tfidf', TfidfVectorizer(lowercase=False)),\n",
    "        ('tfidf', TfidfTransformer()),\n",
    "\n",
    "        ('clf', MLPClassifier(random_state=1, max_iter=300)),\n",
    "    ])\n",
    "\n",
    "# train the model using X_dtm & y\n",
    "pipeline.fit(X_train, Y_train)\n",
    "# compute the testing accuracy\n",
    "prediction = pipeline.predict(X_test)"
   ]
  }
 ],
 "metadata": {
  "kernelspec": {
   "display_name": "UdacityProject_2",
   "language": "python",
   "name": "python3"
  },
  "language_info": {
   "codemirror_mode": {
    "name": "ipython",
    "version": 3
   },
   "file_extension": ".py",
   "mimetype": "text/x-python",
   "name": "python",
   "nbconvert_exporter": "python",
   "pygments_lexer": "ipython3",
   "version": "3.10.8"
  },
  "vscode": {
   "interpreter": {
    "hash": "678b69c4d66602396912dfdc9121749e834caa328c804ef7a07b8e73a4e1d706"
   }
  }
 },
 "nbformat": 4,
 "nbformat_minor": 2
}
